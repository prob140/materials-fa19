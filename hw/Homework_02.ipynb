{
 "cells": [
  {
   "cell_type": "markdown",
   "metadata": {},
   "source": [
    "<table align=\"left\" style=\"border-style: hidden\" class=\"table\"> <tr><td class=\"col-md-2\"><img style=\"float\" src=\"http://prob140.org/assets/icon256.png\" alt=\"Prob140 Logo\" style=\"width: 120px;\"/></td><td><div align=\"left\"><h3 style=\"margin-top: 0;\">Probability for Data Science</h3><h4 style=\"margin-top: 20px;\">UC Berkeley, Fall 2019</h4><p>Ani Adhikari and Jim Pitman</p>CC BY-NC 4.0</div></td></tr></table><!-- not in pdf -->"
   ]
  },
  {
   "cell_type": "code",
   "execution_count": null,
   "metadata": {
    "#solution": false,
    "#staff": false,
    "#student": false
   },
   "outputs": [],
   "source": [
    "from prob140 import *\n",
    "from datascience import *\n",
    "import numpy as np\n",
    "from scipy import special\n",
    "\n",
    "import matplotlib.pyplot as plt\n",
    "%matplotlib inline\n",
    "import matplotlib\n",
    "matplotlib.style.use('fivethirtyeight')"
   ]
  },
  {
   "cell_type": "markdown",
   "metadata": {
    "#solution": false,
    "#staff": false,
    "#student": false
   },
   "source": [
    "# Homework 2 #"
   ]
  },
  {
   "cell_type": "markdown",
   "metadata": {
    "#solution": false,
    "#staff": false,
    "#student": false
   },
   "source": [
    "## 1. Extrema and Tails ##\n",
    "\n",
    "The maximum and minimum of a random sample of numbers are called the \"extrema\" of the sample. Distributions of extrema are best described using the left or right hand tail probabilities. In this exercise you will see how.\n",
    "\n",
    "Fix positive integers $n$ and $N$. Suppose $n$ draws are made at random with replacement from the numbers $\\{1, 2, 3, \\ldots, N\\}$. Let $X_i$ be the number that appears on the $i$th draw.\n",
    "\n",
    "Let $V_n = \\min\\{X_1, X_2, \\ldots, X_n\\}$ be the sample minimum and let $W_n = \\max\\{X_1, X_2, \\ldots, X_n\\}$ be the sample maximum.\n",
    "\n",
    "**a)** The event that a sample maximum is \"small\" is straightforward to describe in terms of the individual elements of the sample. To see this, fill in the blank with an appropriate mathematical symbol or English phrase. Justify your answer.\n",
    "\n",
    "Fix an integer $k$ such that $1 \\le k \\le N$. The event \"$W_n \\le k$\" is the same as the event \"each of $X_1, X_2, \\ldots, X_n$ is $\\underline{~~~~~~~~~~~~~~~~~~~~~~~~~~~~~~~~~~~~~~~~~~~~~~~~~~~~~~~} k$\".\n",
    "\n",
    "It might help to draw the number line, mark the integers 1 through $N$, and put a special mark on $k$. For the maximum to be at or to the left of $k$, where do all the $X$'s have to be?\n",
    "\n",
    "**b)** For $1 \\le k \\le N$, use Part **a** to find $P(W_n \\le k)$. \n",
    "\n",
    "**c)** Use Part **b** to find $P(W_n = k)$ for $1 \\le k \\le N$ and to show algebraically that $\\sum_{k=1}^N P(W_n = k) = 1$.\n",
    "\n",
    "**d)** Modify Parts **a** through **c** to find the distribution of the sample minimum, as follows. For the event that the sample minimum is \"large\", fill in the blank with an appropriate mathematical symbol or English phrase. \n",
    "\n",
    "The event \"$V_n \\ge k$\" is the same as the event \"each of $X_1, X_2, \\ldots, X_n$ is $\\underline{~~~~~~~~~~~~~~~~~~~~~~~~~~~~~~~~~~~~~~~~~~~~~~~~~~~~~~~} k$\".\n",
    "\n",
    "Use this observation and the ideas of the previous parts to find $P(V_n = k)$ for $1 \\le k \\le N$.\n",
    "\n",
    "**e)** Let $k$ and $m$ be integers such that $1 \\le k \\le m \\le N$. Find $P(V_n \\ge k \\mid W_n \\le m)$. Compare with the unconditional probability $P(V_n \\ge k)$ that you used in Part **d** and show how the comparison indicates an intuitive reasoning for the conditional probability."
   ]
  },
  {
   "cell_type": "markdown",
   "metadata": {
    "#solution": false,
    "#staff": false,
    "#student": false
   },
   "source": [
    "#newpage"
   ]
  },
  {
   "cell_type": "markdown",
   "metadata": {
    "#solution": false,
    "#staff": false,
    "#student": false
   },
   "source": [
    "### 2. Mirror Images ###\n",
    "Let $D_1, D_2, D_3, D_4$ represent the numbers on four rolls of a die. Let $V = \\min\\{D_1, D_2, D_3, D_4\\}$, $W = \\max\\{D_1, D_2, D_3, D_4\\}$, $S = \\sum_{i=1}^4 D_i$.\n",
    "\n",
    "**a)** If possible, use one of the symbols $\\stackrel{d}{=}$ or $=$ to fill in the blank in $D_1 \\underline{~~~~~~~~~~~~~} D_2$. Explain; and if both can be used, say why.\n",
    "\n",
    "**b)** If possible, use one of the symbols $\\stackrel{d}{=}$ or $=$ to fill in the blank in $S \\underline{~~~~~~~~~~~~~} 4D_1$. Explain; and if both can be used, say why.\n",
    "\n",
    "**c)** Use the previous exercise and the code cell below to draw the probability histogram of $W$. You will need some `prob140` methods which are used in [Section 3.2](http://prob140.org/textbook/Chapter_03/02_Distributions.html) of the textbook."
   ]
  },
  {
   "cell_type": "code",
   "execution_count": null,
   "metadata": {
    "#solution": false,
    "#staff": false,
    "#student": true
   },
   "outputs": [],
   "source": [
    "\n",
    "n = 4\n",
    "N = 6\n",
    "k = np.arange(1, N+1)\n",
    "\n",
    "# array consisting of P(W=k)\n",
    "probs_W = ...\n",
    "\n",
    "dist_W = ...\n",
    "Plot(...)\n",
    "plt.title('Distribution of W');"
   ]
  },
  {
   "cell_type": "markdown",
   "metadata": {
    "#solution": false,
    "#staff": false,
    "#student": false
   },
   "source": [
    "**d)** Use the code cell below to draw the probability histogram of $V$."
   ]
  },
  {
   "cell_type": "code",
   "execution_count": null,
   "metadata": {
    "#solution": false,
    "#staff": false,
    "#student": true
   },
   "outputs": [],
   "source": [
    "\n",
    "...\n",
    "plt.title('Distribution of V');"
   ]
  },
  {
   "cell_type": "markdown",
   "metadata": {
    "#solution": false,
    "#staff": false,
    "#student": false
   },
   "source": [
    "**e)** Look at the two probability histograms above, and fill in the blanks with numbers. No explanation needed.\n",
    "\n",
    "$P(V = 2) = P(W = \\underline{~~~~~~~~~}~)$ and $V \\stackrel{d}{=} \\underline{~~~~~~~~~} - W$."
   ]
  },
  {
   "cell_type": "markdown",
   "metadata": {
    "#solution": false,
    "#staff": false,
    "#student": false
   },
   "source": [
    "#newpage"
   ]
  },
  {
   "cell_type": "markdown",
   "metadata": {
    "#solution": false,
    "#staff": false,
    "#student": false
   },
   "source": [
    "## 3. A Bound ##\n",
    "Find a numerical value of $k$ that makes the following statement true:\n",
    "\n",
    "In $k$ rolls of a fair die, there is at least 99% chance that all six faces will appear.\n",
    "\n",
    "A good starting point: The complement is a union of which events? Can you bound the chance of a union and thus get an inequality to solve for $k$?"
   ]
  },
  {
   "cell_type": "markdown",
   "metadata": {
    "#solution": false,
    "#staff": false,
    "#student": false
   },
   "source": [
    "#newpage"
   ]
  },
  {
   "cell_type": "markdown",
   "metadata": {
    "#solution": false,
    "#staff": false,
    "#student": false
   },
   "source": [
    "## 4. No Empty Boxes ##\n",
    "For two positive integers $m \\le n$, there are $m$ boxes labeled 1 through $m$, and $n$ balls. The balls are thrown into the boxes uniformly at random, independently of each other.\n",
    "\n",
    "Let $p(m, n)$ be the chance that there are no empty boxes after all of the balls have been thrown.\n",
    "\n",
    "In Parts **(e)** and **(f)** of this exercise you will find a formula for $p(m, n)$ in terms of $m$ and $n$. But before that, see how the formula can be applied. In Parts **(a)** through **(d)**, fill in the blanks. No explanations are necessary for **(a)** through **(d)** but you must show your work or give reasoning for Parts **(e)** and **(f)**.\n",
    "\n",
    "**a)** The chance of getting at least one head and at least one tail in $n$ tosses of a coin is equal to $p(\\underline{~~~~~~~~~}, \\underline{~~~~~~~~~})$.\n",
    "\n",
    "Note: In the [textbook](http://prob140.org/textbook/Chapter_02/02_Examples.html) there is a formula for this chance.\n",
    "\n",
    "**b)** The chance that all six faces appear in $r$ rolls of a die is equal to $p(\\underline{~~~~~~~~~}, \\underline{~~~~~~~~~})$.\n",
    "\n",
    "**c)** Suppose each person's birthday is equally likely to be any of the 365 days of the year, independently of everyone else's birthday. The chance that you see all 365 days of the year among the birthdays of $n \\ge 365$ people is $p(\\underline{~~~~~~~~~}, \\underline{~~~~~~~~~})$. \n",
    "\n",
    "**d)** Each box of a breakfast cereal contains one of $c$ different coupons. Once you collect all $c$ coupons, you get a prize. Assume that each box is equally likely to contain any of the $c$ coupons, independently of all the other boxes. If you buy $b$ cereal boxes, the chance that you get a complete set of coupons is $p(\\underline{~~~~~~~~~}, \\underline{~~~~~~~~~})$.\n",
    "\n",
    "**e)** Find the chance that you see all six faces in $r$ rolls of a die. In an earlier exercise you made the key observation that the complement of the event in question is a union, so use inclusion-exclusion and symmetry. It will help to think about the number of different pairs of faces, the number of different triples of faces, and so on.\n",
    "\n",
    "**f)** For positive integers $m \\le n$, find a formula for $p(m, n)$."
   ]
  },
  {
   "cell_type": "markdown",
   "metadata": {
    "#solution": false,
    "#staff": false,
    "#student": false
   },
   "source": [
    "#newpage"
   ]
  },
  {
   "cell_type": "markdown",
   "metadata": {
    "#solution": false,
    "#staff": false,
    "#student": false
   },
   "source": [
    "### 5. Two IID Random Variables ###\n",
    "\n",
    "Let $R$ and $S$ be independent and identically distributed (i.i.d.) integer-valued random variables, with distribution given by\n",
    "\n",
    "$$\n",
    "P(R = k) ~ = ~ \n",
    "\\begin{cases} \n",
    "c \\cdot \\frac{1}{k}, ~~ 1 \\le k \\le 10 \\\\\n",
    "0 ~~~~~ \\text{otherwise}\n",
    "\\end{cases}\n",
    "$$\n",
    "\n",
    "where $c$ is a constant. \n",
    "\n",
    "**a)** Find a formula for $c$. You might want to write out all 10 probabilities in terms of $c$ first, but this isn't required.\n",
    "\n",
    "**b)** Complete the cell below to plot the probability histogram of $R$."
   ]
  },
  {
   "cell_type": "code",
   "execution_count": null,
   "metadata": {
    "#solution": false,
    "#staff": false,
    "#student": true
   },
   "outputs": [],
   "source": [
    "\n",
    "k = np.arange(1, 11)   # array of possible values of R\n",
    "p = ...                # array of probabilities of those values\n",
    "dist_R = Table().values(k).probabilities(p)\n",
    "Plot(dist_R)\n",
    "plt.title('Distribution of X');"
   ]
  },
  {
   "cell_type": "markdown",
   "metadata": {
    "#solution": false,
    "#staff": false,
    "#student": false
   },
   "source": [
    "Before you do the remaining parts it is highly recommended that you read the examples in Section 4.2 of the [textbook](http://prob140.org/textbook/Chapter_04/02_Examples.html).\n",
    "\n",
    "**c)** Complete the cell below to create `joint_dist`, the joint distribution table of $R$ and $S$."
   ]
  },
  {
   "cell_type": "code",
   "execution_count": null,
   "metadata": {
    "#solution": false,
    "#staff": false,
    "#student": true
   },
   "outputs": [],
   "source": [
    "\n",
    "def joint_probability(x, y):\n",
    "    \"\"\"Returns P(R = x, S = y)\"\"\"\n",
    "    return p.item(...)...\n",
    "\n",
    "joint_dist = Table().values('R', k, 'S', k).probability_function(joint_probability)\n",
    "joint_dist"
   ]
  },
  {
   "cell_type": "markdown",
   "metadata": {
    "#solution": false,
    "#staff": false,
    "#student": false
   },
   "source": [
    "**d)** Use the `event` method to find $P(|R - S| = 2)$."
   ]
  },
  {
   "cell_type": "code",
   "execution_count": null,
   "metadata": {
    "#solution": false,
    "#staff": false,
    "#student": true
   },
   "outputs": [],
   "source": [
    "\n",
    "..."
   ]
  },
  {
   "cell_type": "markdown",
   "metadata": {
    "#solution": false,
    "#staff": false,
    "#student": false
   },
   "source": [
    "**e)** For brevity, let $r_k = P(R = k)$ and $s_k = P(S = k)$ for $1 \\le k \\le 10$. Write a formula for $P(|R - S| \\ge 2)$ in terms of $r_1, r_2, \\ldots, r_{10}$ and $s_1, s_2, \\ldots, s_{10}$. Make sure that the terms that you are adding are all positive; sums should not include any terms that are 0.\n",
    "\n",
    "Your work will go much faster if you identify a useful example in Section 4.2 of the textbook."
   ]
  },
  {
   "cell_type": "markdown",
   "metadata": {
    "#solution": false,
    "#staff": false,
    "#student": false
   },
   "source": [
    "## Submission Instructions ##\n",
    "\n",
    "Many assignments throughout the course will have a written portion and a code portion. Please follow the directions below to properly submit both portions.\n",
    "\n",
    "### Written Portion ###\n",
    "*  Scan all the pages into a PDF. You can use any scanner or a phone using applications such as CamScanner. Please **DO NOT** simply take pictures using your phone. \n",
    "* Please start a new page for each question. If you have already written multiple questions on the same page, you can crop the image in CamScanner or fold your page over (the old-fashioned way). This helps expedite grading.\n",
    "* It is your responsibility to check that all the work on all the scanned pages is legible.\n",
    "\n",
    "### Code Portion ###\n",
    "* Save your notebook using File > Save and Checkpoint.\n",
    "* Generate a PDF file using File > Download as > PDF via LaTeX. This might take a few seconds and will automatically download a PDF version of this notebook.\n",
    "    * If you have issues, please make a follow-up post on the general HW 2 Piazza thread.\n",
    "    \n",
    "### Submitting ###\n",
    "* Combine the PDFs from the written and code portions into one PDF.  [Here](https://smallpdf.com/merge-pdf) is a useful tool for doing so. \n",
    "* Submit the assignment to Homework 2 on Gradescope. \n",
    "* **Make sure to assign each page of your pdf to the correct question.**\n",
    "* **It is your responsibility to verify that all of your work shows up in your final PDF submission.**"
   ]
  }
 ],
 "metadata": {
  "checksums": [
   "1ccfeeb045915fb7127619e3ebb3482e",
   "510b88354262c31ba9053a0c05b44859",
   "b33297e1eff1902e80bcc722d659baa9",
   "9848eac7e3fb6bee8527735e47ad7465",
   "640061103a186fd26f59746dd4d6de57",
   "3d5750926679cc53db22276f8ba029e6",
   "672d8939521d341d61a94753d479b7e2",
   "964a7b1068f77db68d1c612f670a667a",
   "d9a8868d4643aae236f9cacd2ad1efdf",
   "74bacefb9b2db5fd0258c34521ea0666",
   "640061103a186fd26f59746dd4d6de57",
   "99b570538f2533daa43b9edf6ef736fd",
   "640061103a186fd26f59746dd4d6de57",
   "cac07662cc4f942665102d45ebf1f258",
   "640061103a186fd26f59746dd4d6de57",
   "7b1dcba7fdd7d7b826f4f5234f6b1680",
   "df4eb07fa1bb4a66750e2e844207cbcb",
   "5252a08d9dfc16ded437cf9e03b74f26",
   "d54cfc959a65a0a7fecb527bcede3da9",
   "92da07b564007363eb79768a83863a40",
   "2f43b42fd833d1e77420a8dae7419000",
   "a2e56baae6b9d61661d3ce67cb22fcdb",
   "ed9d760bd83efa6039f6b6f35c201c0d"
  ],
  "kernelspec": {
   "display_name": "Python 3",
   "language": "python",
   "name": "python3"
  },
  "language_info": {
   "codemirror_mode": {
    "name": "ipython",
    "version": 3
   },
   "file_extension": ".py",
   "mimetype": "text/x-python",
   "name": "python",
   "nbconvert_exporter": "python",
   "pygments_lexer": "ipython3",
   "version": "3.6.5"
  },
  "number_of_pagebreaks": 4
 },
 "nbformat": 4,
 "nbformat_minor": 2
}
