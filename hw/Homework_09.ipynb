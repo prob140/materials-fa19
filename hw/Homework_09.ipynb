{
 "cells": [
  {
   "cell_type": "markdown",
   "metadata": {},
   "source": [
    "<table align=\"left\" style=\"border-style: hidden\" class=\"table\"> <tr><td class=\"col-md-2\"><img style=\"float\" src=\"http://prob140.org/assets/icon256.png\" alt=\"Prob140 Logo\" style=\"width: 120px;\"/></td><td><div align=\"left\"><h3 style=\"margin-top: 0;\">Probability for Data Science</h3><h4 style=\"margin-top: 20px;\">UC Berkeley, Fall 2019</h4><p>Ani Adhikari and Jim Pitman</p>CC BY-NC 4.0</div></td></tr></table><!-- not in pdf -->"
   ]
  },
  {
   "cell_type": "code",
   "execution_count": null,
   "metadata": {
    "#solution": false,
    "#staff": false,
    "#student": false
   },
   "outputs": [],
   "source": [
    "# HIDDEN\n",
    "from datascience import *\n",
    "from prob140 import *\n",
    "import numpy as np\n",
    "import matplotlib.pyplot as plt\n",
    "plt.style.use('fivethirtyeight')\n",
    "%matplotlib inline\n",
    "from scipy import stats\n",
    "from sympy import *\n",
    "init_printing()"
   ]
  },
  {
   "cell_type": "markdown",
   "metadata": {
    "#solution": false,
    "#staff": false,
    "#student": false
   },
   "source": [
    "# Homework 9 #\n",
    "\n",
    "### Instructions\n",
    "\n",
    "Your homeworks have two components: a written portion and a portion that also involves code.  Written work should be completed on paper, and coding questions should be done in the notebook.  You are welcome to LaTeX your answers to the written portions, but staff will not be able to assist you with LaTeX related issues. It is your responsibility to ensure that both components of the homework are submitted completely and properly to Gradescope. Refer to the bottom of the notebook for submission instructions."
   ]
  },
  {
   "cell_type": "markdown",
   "metadata": {
    "#solution": false,
    "#staff": false,
    "#student": false
   },
   "source": [
    "### `Plot_continuous` ###\n",
    "In this homework you will plot a number of densities using the `prob140` function `Plot_continuous` which takes as its arguments:\n",
    "\n",
    "- a list consisting of two elements: the left endpoint and right endpoint of the plotting interval on the horizontal axis\n",
    "- the name of a function that takes a numerical argument and returns the value of the density at that argument; this could be a function you have defined, or a `SciPy` function `stats.distribution_name.pdf`.\n",
    "\n",
    "`Plot_continuous` takes other arguments as well, as you can see in the brief [documentation](http://prob140.org/prob140/_autosummary/prob140.plots.Plot_continuous.html#prob140.plots.Plot_continuous), but you will not need those in the homework. "
   ]
  },
  {
   "cell_type": "markdown",
   "metadata": {
    "#solution": false,
    "#staff": false,
    "#student": false
   },
   "source": [
    "### 1. Transformations of the Normal ###\n",
    "Let $Z$ have the standard normal density.\n",
    "\n",
    "**a)** Find the density of $\\vert Z \\vert$. Don't try to use a formula. Just think about $P(\\vert Z \\vert \\in dy)$ for positive $y$.\n",
    "\n",
    "**b)** Find $E(\\vert Z \\vert)$. Calculating the integral is straightforward; you should just be able to recognize the indefinite integral.\n",
    "\n",
    "**c) [CODE]** Complete the cell below to use `Plot_continuous` to plot the density of $\\vert Z \\vert$ and mark the expectation on the horizontal axis. In Data 8 you saw distributions of this shape when you simulated statistics such as \"the absolute difference between the proportion of heads and 1/2\".\n",
    "\n",
    "Start by defining a function `abs_norm_density` that takes a number $y$ (positive or otherwise) as its argument and returns the density of $\\vert Z \\vert$ at $y$. Then plot the density over the interval $(-0.5, 4)$.\n",
    "\n",
    "Assign $E(\\vert Z \\vert)$ to the name `ev`. Use `np.pi` for $\\pi$."
   ]
  },
  {
   "cell_type": "code",
   "execution_count": null,
   "metadata": {
    "#solution": false,
    "#staff": false,
    "#student": true
   },
   "outputs": [],
   "source": [
    "# answer to 1c\n",
    "\n",
    "def abs_norm_density(y):\n",
    "    if y > 0:\n",
    "        return ...\n",
    "    else:\n",
    "        return ...\n",
    "\n",
    "Plot_continuous(...)\n",
    "\n",
    "ev = ...\n",
    "plt.scatter(ev, -0.01, marker = '^', color='red', s=50)\n",
    "\n",
    "# Labels and axes; do not edit below this line\n",
    "plt.xlabel('$y$')\n",
    "plt.ylabel('Density at $y$')\n",
    "plt.title('Density of $|Z|$')\n",
    "plt.xlim(-0.1, 4)\n",
    "plt.ylim(-0.02, 0.81);"
   ]
  },
  {
   "cell_type": "markdown",
   "metadata": {
    "#solution": false,
    "#staff": false,
    "#student": false
   },
   "source": [
    "**d)** A random variable whose log is normal is said to have a lognormal density. In the previous homework you examined the special case where the log is standard normal. Now let $X$ have the normal $(\\mu, \\sigma^2)$ density and let $Y = e^X$. Use the change of variable formula for densities to find the density of $Y$."
   ]
  },
  {
   "cell_type": "markdown",
   "metadata": {
    "#solution": false,
    "#staff": false,
    "#student": false
   },
   "source": [
    "**e) [CODE]** Complete the definitions in the cell below to get a plot of the lognormal density in the case $\\mu = 0$ and $\\sigma = 1$ and also (in gold) the lognormal density in the case $\\mu = 0$, $\\sigma = 0.5$. Use `np.log(w)` for $\\log(w)$, and remember that `stats.norm.pdf(x, mu, sigma)` evaluates the normal density with mean $\\mu$ and SD $\\sigma$ at the point $x$. "
   ]
  },
  {
   "cell_type": "code",
   "execution_count": null,
   "metadata": {
    "#solution": false,
    "#staff": false,
    "#student": true
   },
   "outputs": [],
   "source": [
    "# answer to 1e\n",
    "\n",
    "# Density of e^Z where Z is standard normal\n",
    "def lognorm_density_1(y):\n",
    "    return ... * stats.norm.pdf(...)\n",
    "\n",
    "\n",
    "# Density of e^X where X is normal with mean 0 and SD 0.5\n",
    "def lognorm_density_05(y):\n",
    "    return ... * stats.norm.pdf(...)\n",
    "\n",
    "Plot_continuous([0.01, 7], lognorm_density_1)\n",
    "Plot_continuous([0.01, 7], lognorm_density_05, color='gold')\n",
    "plt.title('Lognormal Densities');"
   ]
  },
  {
   "cell_type": "markdown",
   "metadata": {
    "#solution": false,
    "#staff": false,
    "#student": false
   },
   "source": [
    "#newpage"
   ]
  },
  {
   "cell_type": "markdown",
   "metadata": {
    "#solution": false,
    "#staff": false,
    "#student": false
   },
   "source": [
    "### 2. Cauchy Density ###\n",
    "Part (a) is from Pitman's text, page 310, where you'll find a useful diagram. But note that we are using $\\Theta$ where he uses $\\Phi$, to avoid confusion with the standard normal cdf.\n",
    "\n",
    "**a)** Suppose that a particle is fired from the origin in the $(x, y)$-plane in a straight line in a direction at a random angle $\\Theta$ to the $x$-axis. Let $Y$ be the $y$-coordinate of the point where the particle hits the line $x = 1$. Show that if $\\Theta$ has the uniform distribution on $(-\\pi/2, \\pi/2)$, then the density of $Y$ is\n",
    "\n",
    "$$\n",
    "f_Y(y) ~ = ~ \\frac{1}{\\pi(1 + y^2)}, ~~~ - \\infty < y < \\infty\n",
    "$$\n",
    "\n",
    "This is called the *Cauchy* density.\n",
    "\n",
    "**b) [CODE]** Use `Plot_continuous` twice, to plot the Cauchy density over the interval $(-5, 5)$ and overlay the standard normal curve. Use `stats.cauchy.pdf` for the Cauchy density, make sure to use  `'gold'` for the color of the normal curve. Refer to the description of `Plot_continuous` at the top of this homework."
   ]
  },
  {
   "cell_type": "code",
   "execution_count": null,
   "metadata": {
    "#solution": false,
    "#staff": false,
    "#student": true
   },
   "outputs": [],
   "source": [
    "# answer to 2b\n",
    "\n",
    "# Plotting interval on the horizontal axis: -5 to 5\n",
    "# The first plot should be the Cauchy.\n",
    "# The gold plot should be the standard normal curve.\n",
    "\n",
    "Plot_continuous(...)\n",
    "Plot_continuous(..., color='gold')"
   ]
  },
  {
   "cell_type": "markdown",
   "metadata": {
    "#solution": false,
    "#staff": false,
    "#student": false
   },
   "source": [
    "**c)** For $Y$ with the Cauchy density, use calculus to show that $E(\\lvert Y \\rvert ) = \\infty$. Thus $E(Y)$ is undefined even though the density of $Y$ is symmetric about 0.\n",
    "\n",
    "The Cauchy curve is called the [Witch of Agnesi](https://en.wikipedia.org/wiki/Witch_of_Agnesi). Skim the History and Applications sections of the Wikipedia article."
   ]
  },
  {
   "cell_type": "markdown",
   "metadata": {
    "#solution": false,
    "#staff": false,
    "#student": false
   },
   "source": [
    "**2d)** Explain what is being plotted by the code below, and discuss what you see in the graph in relation to the Weak Law of Large Numbers. Run the cell several times before you answer. You should also vary $N$.\n",
    "\n",
    "[`stats.cauchy.rvs(size = N)` returns an array of $N$ i.i.d. Cauchy random numbers.]"
   ]
  },
  {
   "cell_type": "code",
   "execution_count": null,
   "metadata": {
    "#solution": false,
    "#staff": false,
    "#student": false
   },
   "outputs": [],
   "source": [
    "#2d: run this\n",
    "N = 10000\n",
    "n = np.arange(1, N+1)\n",
    "x = stats.cauchy.rvs(size = N)\n",
    "y = np.cumsum(x)/n\n",
    "plt.plot(n, y, color='darkblue', lw=2)\n",
    "plt.plot([0, N], [0, 0], color='k', lw=2);"
   ]
  },
  {
   "cell_type": "markdown",
   "metadata": {
    "#solution": false,
    "#staff": false,
    "#student": false
   },
   "source": [
    "#newpage"
   ]
  },
  {
   "cell_type": "markdown",
   "metadata": {
    "#solution": false,
    "#staff": false,
    "#student": false
   },
   "source": [
    "### 3. Functions of Uniform Random Variables ###\n",
    "Let $X$ and $Y$ have joint density\n",
    "\n",
    "$$f(x, y) = \n",
    "\\begin{cases}\n",
    "90(y-x)^8, ~~~~ 0 < x < y < 1 \\\\\n",
    "0 ~~~~~~~~~~~~~~~~~~~~~ \\text{otherwise}\n",
    "\\end{cases}$$ \n",
    "\n",
    "In what follows, please do the calculus yourself. No `SymPy`.\n",
    "\n",
    "**a)** Find $P(Y > 2X)$.\n",
    "\n",
    "**b)** Find the marginal density of $X$.\n",
    "\n",
    "**c)** Fill in the blanks (explain briefly):\n",
    "The joint density $f$ above is the joint density of the $\\underline{~~~~~~~~~~~~~~~~}$ and $\\underline{~~~~~~~~~~~~~~~~}$ of ten independent uniform $(0, 1)$ random variables.\n"
   ]
  },
  {
   "cell_type": "markdown",
   "metadata": {
    "#solution": false,
    "#staff": false,
    "#student": false
   },
   "source": [
    "#newpage"
   ]
  },
  {
   "cell_type": "markdown",
   "metadata": {
    "#solution": false,
    "#staff": false,
    "#student": false
   },
   "source": [
    "### 4. The Gamma Densities ###\n",
    "In this problem you will start with some calculus exercises and then develop one of the fundamental families of densities. Assume that $r > 0$ and $\\lambda > 0$ are constants.\n",
    "\n",
    "**a)** The *Gamma function* of mathematics is defined by\n",
    "$$\n",
    "\\Gamma (r) ~ = ~ \\int_0^\\infty t^{r-1} e^{-t} dt\n",
    "$$\n",
    "\n",
    "That letter is the upper case Greek letter Gamma. You can assume that the integral converges and that therefore $\\Gamma(r)$ is a positive number.\n",
    "\n",
    "Use integration by parts to show that \n",
    "$$\n",
    "\\Gamma(r+1) ~ = ~ r\\Gamma(r), ~~~ r > 0\n",
    "$$\n",
    "\n",
    "**b)** Use part (a) and induction to show that if $r$ is a positive integer then $\\Gamma(r) = (r-1)!$. Thus the Gamma function is a continuous extension of the factorial function.\n",
    "\n",
    "**c)** Let $X$ have density given by\n",
    "$$\n",
    "f_X(t) =\n",
    "\\begin{cases}\n",
    "\\frac{1}{\\Gamma(r)} t^{r-1}e^{-t}, ~~~ t > 0 \\\\\n",
    "0 ~~~~~~~~~~~~~~~~~~~~ \\text{otherwise}\n",
    "\\end{cases}\n",
    "$$\n",
    "\n",
    "Let $Y = \\frac{1}{\\lambda} X$. Show that the density of $Y$ is\n",
    "\n",
    "$$\n",
    "f_Y(t) =\n",
    "\\begin{cases}\n",
    "\\frac{\\lambda^r}{\\Gamma(r)} t^{r-1}e^{-\\lambda t}, ~~~ t > 0 \\\\\n",
    "0 ~~~~~~~~~~~~~~~~~~~~ \\text{otherwise}\n",
    "\\end{cases}\n",
    "$$\n",
    "\n",
    "This is called the gamma $(r, \\lambda)$ density.\n",
    "\n",
    "**d)** Use (c) and the formula in Section 16.3 of the Prob 140 textbook to confirm that if $Z$ has the standard normal density then $Z^2$ has the gamma $(1/2, 1/2)$ density. Hence find $\\Gamma (1/2)$, and then use (a) to find $\\Gamma (3/2)$ and $\\Gamma (5/2)$. Please don't leave any integrals in your answers.\n",
    "\n",
    "**Shapes of Gamma Densities:** Part (c) shows that the gamma $(r, \\lambda)$ density is obtained as a change of scale (units of measurement) starting with a gamma $(r, 1)$ random variable and multiplying it by $1/\\lambda$. That is why `stats` calls $1/\\lambda$ the *scale parameter* of the gamma density. \n",
    "\n",
    "The parameter $r$ determines the shape of the curve and is called the *shape parameter*. To see why, it helps to look at some plots.\n",
    "\n",
    "The method `stats.gamma.pdf` can be used with the following arguments to return the value of the density:\n",
    "- the value of $t$ (possibly an array) at which to evaluate the density\n",
    "- $r$\n",
    "- $\\lambda$ specified as `scale=1/`$\\lambda$\n",
    "\n",
    "Run the cell below to see overlaid graphs of the several gamma densities with different values of $r$ but the same $\\lambda$. You will see why $r$ is called the shape parameter."
   ]
  },
  {
   "cell_type": "code",
   "execution_count": null,
   "metadata": {
    "#solution": false,
    "#staff": false,
    "#student": false
   },
   "outputs": [],
   "source": [
    "t = np.arange(0, 25, 0.01)\n",
    "r_1 = stats.gamma.pdf(t, 1, scale=1/0.25)\n",
    "r_1_5 = stats.gamma.pdf(t, 1.5, scale=1/0.25)\n",
    "r_2 = stats.gamma.pdf(t, 2, scale=1/0.25)\n",
    "r_2_5 = stats.gamma.pdf(t, 2.5, scale=1/0.25)\n",
    "r_3 = stats.gamma.pdf(t, 3, scale=1/0.25)\n",
    "plt.plot(t, r_1, lw=2, label='gamma (1, 0.25)')\n",
    "plt.plot(t, r_1_5, lw=2, label='gamma (1.5, 0.25)')\n",
    "plt.plot(t, r_2, lw=2, label='gamma (2, 0.25)')\n",
    "plt.plot(t, r_2_5, lw=2, label='gamma (2.5, 0.25)')\n",
    "plt.plot(t, r_3, lw=2, label='gamma (3, 0.25)')\n",
    "plt.xlabel('$t$')\n",
    "plt.legend();"
   ]
  },
  {
   "cell_type": "markdown",
   "metadata": {
    "#solution": false,
    "#staff": false,
    "#student": false
   },
   "source": [
    "#newpage"
   ]
  },
  {
   "cell_type": "markdown",
   "metadata": {
    "#solution": false,
    "#staff": false,
    "#student": false
   },
   "source": [
    "### 5. Mean and Variance of the Gamma ###\n",
    "As in Question 4, let $r$ and $\\lambda$ be positive constants.\n",
    "\n",
    "**a)** Use Question 4(c) and properties of densities to evaluate\n",
    "$$\n",
    "\\int_0^\\infty t^{r-1}e^{-\\lambda t} dt\n",
    "$$\n",
    "in terms of $r$, $\\lambda$, and the Gamma function. For what follows, keep in mind that your formula is correct for all positive $r$.\n",
    "\n",
    "**b)** Let $T$ have gamma $(r, \\lambda)$ density. Use (a) and 4(a) to find a simple formula for $E(T)$ in terms of $r$ and $\\lambda$. Please don't leave any integrals in your answer.\n",
    "\n",
    "**c)** For $T$ as in (b), find $E(T^2)$ and hence $Var(T)$. Again, there should be no integrals left in your answer.\n",
    "\n",
    "**d)** Identify the gamma $(1, \\lambda)$ density as one that has another famous name, and confirm that your answers to (b) and (c) are consistent with what you already know about that density."
   ]
  },
  {
   "cell_type": "markdown",
   "metadata": {
    "#solution": false,
    "#staff": false,
    "#student": false
   },
   "source": [
    "#newpage"
   ]
  },
  {
   "cell_type": "markdown",
   "metadata": {
    "#solution": false,
    "#staff": false,
    "#student": false
   },
   "source": [
    "### 6. Marginal Density ###"
   ]
  },
  {
   "cell_type": "markdown",
   "metadata": {
    "#solution": false,
    "#staff": false,
    "#student": false
   },
   "source": [
    "The exercise is taken from Pitman's Exercise 5.2.8, but you will go a bit further here. Please review Lab 8 for how to use `SymPy`. Everything you need for the code below has already been imported.\n",
    "\n",
    "For some constant $c > 0$, random variables $X$ and $Y$ have a joint density $f$ defined as follows.\n",
    "\n",
    "$$\n",
    "f(x, y) ~ = ~ \n",
    "\\begin{cases}\n",
    "c(y^2 - x^2)e^{-y}, ~~~ y > 0, ~ -y < x < y  \\\\\n",
    "0 ~~~~~~~~~~~~~~~~~~~~~~~~~ \\text{otherwise}\n",
    "\\end{cases}\n",
    "$$\n",
    "\n",
    "There are several symbols in the definition. Let's start by creating `x` and `y`. Notice that `x` can be negative."
   ]
  },
  {
   "cell_type": "code",
   "execution_count": null,
   "metadata": {
    "#solution": false,
    "#staff": false,
    "#student": false
   },
   "outputs": [],
   "source": [
    "x = Symbol('x')\n",
    "y = Symbol('y', positive=True)"
   ]
  },
  {
   "cell_type": "markdown",
   "metadata": {
    "#solution": false,
    "#staff": false,
    "#student": false
   },
   "source": [
    "The normalizing constant $c$ is also a symbol."
   ]
  },
  {
   "cell_type": "code",
   "execution_count": null,
   "metadata": {
    "#solution": false,
    "#staff": false,
    "#student": false
   },
   "outputs": [],
   "source": [
    "c = Symbol('c', positive=True)"
   ]
  },
  {
   "cell_type": "markdown",
   "metadata": {
    "#solution": false,
    "#staff": false,
    "#student": false
   },
   "source": [
    "**a)** Find a formula for $c$. Be careful about limits of integration."
   ]
  },
  {
   "cell_type": "markdown",
   "metadata": {
    "#solution": false,
    "#staff": false,
    "#student": false
   },
   "source": [
    "**b) [CODE]** Complete the cell below so that the expression in the last line evaluates to the numerical value of $c$."
   ]
  },
  {
   "cell_type": "code",
   "execution_count": null,
   "metadata": {
    "#solution": false,
    "#staff": false,
    "#student": true
   },
   "outputs": [],
   "source": [
    "# answer to 6b\n",
    "\n",
    "h = ...\n",
    "c = 1 / integrate(h, (x, ...), (y, ...))\n",
    "c"
   ]
  },
  {
   "cell_type": "markdown",
   "metadata": {
    "#solution": false,
    "#staff": false,
    "#student": false
   },
   "source": [
    "**c) [CODE]** Construct an expression `f` that equals $f(x, y)$, using `c` and `h` from the previous code cell, and check that it is a joint density."
   ]
  },
  {
   "cell_type": "code",
   "execution_count": null,
   "metadata": {
    "#solution": false,
    "#staff": false,
    "#student": true
   },
   "outputs": [],
   "source": [
    "# answer to 6c\n",
    "\n",
    "f = ...\n",
    "Integral(...).doit()"
   ]
  },
  {
   "cell_type": "markdown",
   "metadata": {
    "#solution": false,
    "#staff": false,
    "#student": false
   },
   "source": [
    "**d)** Find the possible values of $Y$ and write a formula for $f_Y$, the density of $Y$. You don't have to evaluate the integral by hand (you'll use `SymPy` for that below), but be careful about the limits of integration."
   ]
  },
  {
   "cell_type": "markdown",
   "metadata": {
    "#solution": false,
    "#staff": false,
    "#student": false
   },
   "source": [
    "**e) [CODE]** Complete the cell below so that `f_Y` in the last line evaluates to $f_Y(y)$."
   ]
  },
  {
   "cell_type": "code",
   "execution_count": null,
   "metadata": {
    "#solution": false,
    "#staff": false,
    "#student": true
   },
   "outputs": [],
   "source": [
    "# answer to 6e\n",
    "\n",
    "f_Y = ...\n",
    "f_Y"
   ]
  },
  {
   "cell_type": "markdown",
   "metadata": {
    "#solution": false,
    "#staff": false,
    "#student": false
   },
   "source": [
    "**f) [CODE and WRITTEN]** Recognize the density of $Y$ as one of the famous ones, and then complete the cell below to display the density over the interval provided. In the comment line, enter the name and parameters of the distribution, and also the value of $E(Y)$."
   ]
  },
  {
   "cell_type": "code",
   "execution_count": null,
   "metadata": {
    "#solution": false,
    "#staff": false,
    "#student": true
   },
   "outputs": [],
   "source": [
    "# 6f\n",
    "\n",
    "\"\"\"Y has the ... (...) distribution. \n",
    "By an earlier problem in this Homework, E(Y) = ...\"\"\"\n",
    "\n",
    "Plot_continuous([0, 15], f_Y)\n",
    "plt.xticks(np.arange(0, 15, 2))\n",
    "plt.title('Density of $Y$');"
   ]
  },
  {
   "cell_type": "markdown",
   "metadata": {
    "#solution": false,
    "#staff": false,
    "#student": false
   },
   "source": [
    "#newpage"
   ]
  },
  {
   "cell_type": "markdown",
   "metadata": {
    "#solution": false,
    "#staff": false,
    "#student": false
   },
   "source": [
    "## Submission Instructions ##\n",
    "\n",
    "Many assignments throughout the course will have a written portion and a code portion. Please follow the directions below to properly submit both portions.\n",
    "\n",
    "### Written Portion ###\n",
    "*  Scan all the pages into a PDF. You can use any scanner or a phone using an application. Please **DO NOT** simply take pictures using your phone. \n",
    "* Please start a new page for each question. If you have already written multiple questions on the same page, you can crop the image or fold your page over (the old-fashioned way). This helps expedite grading.\n",
    "* It is your responsibility to check that all the work on all the scanned pages is legible.\n",
    "\n",
    "### Code Portion ###\n",
    "* Save your notebook using File > Save and Checkpoint.\n",
    "* Generate a PDF file using File > Download as > PDF via LaTeX. This might take a few seconds and will automatically download a PDF version of this notebook.\n",
    "    * If you have issues, please make a follow-up post on the general HW 9 Piazza thread.\n",
    "    \n",
    "### Submitting ###\n",
    "* Combine the PDFs from the written and code portions into one PDF.  [Here](https://smallpdf.com/merge-pdf) is a useful tool for doing so. \n",
    "* Submit the assignment to Homework 9 on Gradescope. \n",
    "* **Make sure to assign each page of your pdf to the correct question.**\n",
    "* **It is your responsibility to verify that all of your work shows up in your final PDF submission.**\n",
    "\n",
    "\n",
    "### **We will not grade assignments which do not have pages selected for each question.** "
   ]
  }
 ],
 "metadata": {
  "anaconda-cloud": {},
  "checksums": [
   "1ccfeeb045915fb7127619e3ebb3482e",
   "f40433e381bd660b397280a74bb5cf8d",
   "71431c4561b702cbe903596a96e1a0d6",
   "965857974851e2b3325a2c9341a0b64a",
   "a67445f99ce616392b57c8ffffd044a0",
   "fbc408151f5514538c01d61fb555fa13",
   "244db7807311a485f00af60f4c7aee96",
   "b29216725f576b3f95ca9027ba9d2131",
   "9912ee8fc37c6bd70ff7e07cec500c57",
   "640061103a186fd26f59746dd4d6de57",
   "b7f06cc9a6e0b7836882dbb0e078dd3a",
   "8212c7db5f389648426ce79a7b90a349",
   "26c5dfa61e7e02bc2eb0fcc9a5efbdea",
   "b1aa34d11cc880b97ef0556559d53766",
   "d1ed123e35d2a9e8843d78c12502a638",
   "640061103a186fd26f59746dd4d6de57",
   "c243feac20439c01df6106eee04916f0",
   "640061103a186fd26f59746dd4d6de57",
   "e6da7000c548269d96419173b9e69c32",
   "02f38f8d3fbfbacf6c7e1f696ca2b1fa",
   "640061103a186fd26f59746dd4d6de57",
   "f750eab8d58ef0fa86dba85bf1eb060f",
   "640061103a186fd26f59746dd4d6de57",
   "bb250a4d6c190ffc4346d77513c80a47",
   "df47bfc2344ea86f199ef1e8a7fc8ee9",
   "561118e974c477b1c9857a5c1e9b7b9b",
   "cb3bc864307455e0c1db9ac35a2188cd",
   "314a0a72b9b758f615cbfa2ff1bf4e48",
   "260328be9dbfd6d316307abedab9b305",
   "8be12bd2cc56c0d424ea9ed8ebae9bd0",
   "10ec2b04659626e3bc85968d3967500b",
   "9ba05c290e84da5abf0a673b9f20a9c3",
   "6b3e60f035179dcb8ac511889fcaa9be",
   "28381d0cb5e0f121ee3a7f263c9e15a7",
   "fcce76f749b45d8daaacdeec8f46ea8b",
   "816ee0cccdacfbaf065c78768f00d082",
   "2c67fbff4624662c12bb87ac2be8b31b",
   "cfb63937da7f9f914a03c6bd889c16cd",
   "640061103a186fd26f59746dd4d6de57",
   "0566c5fc869d0479082d27b97eea0b5c"
  ],
  "kernelspec": {
   "display_name": "Python 3",
   "language": "python",
   "name": "python3"
  },
  "language_info": {
   "codemirror_mode": {
    "name": "ipython",
    "version": 3
   },
   "file_extension": ".py",
   "mimetype": "text/x-python",
   "name": "python",
   "nbconvert_exporter": "python",
   "pygments_lexer": "ipython3",
   "version": "3.6.9"
  },
  "number_of_pagebreaks": 6,
  "widgets": {
   "state": {},
   "version": "1.1.2"
  }
 },
 "nbformat": 4,
 "nbformat_minor": 2
}
