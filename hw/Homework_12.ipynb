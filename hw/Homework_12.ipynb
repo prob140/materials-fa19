{
 "cells": [
  {
   "cell_type": "markdown",
   "metadata": {},
   "source": [
    "<table align=\"left\" style=\"border-style: hidden\" class=\"table\"> <tr><td class=\"col-md-2\"><img style=\"float\" src=\"http://prob140.org/assets/icon256.png\" alt=\"Prob140 Logo\" style=\"width: 120px;\"/></td><td><div align=\"left\"><h3 style=\"margin-top: 0;\">Probability for Data Science</h3><h4 style=\"margin-top: 20px;\">UC Berkeley, Fall 2019</h4><p>Ani Adhikari and Jim Pitman</p>CC BY-NC 4.0</div></td></tr></table><!-- not in pdf -->"
   ]
  },
  {
   "cell_type": "code",
   "execution_count": null,
   "metadata": {
    "#solution": false,
    "#staff": false,
    "#student": false
   },
   "outputs": [],
   "source": [
    "# HIDDEN\n",
    "from datascience import *\n",
    "from prob140 import *\n",
    "import numpy as np\n",
    "import matplotlib.pyplot as plt\n",
    "plt.style.use('fivethirtyeight')\n",
    "%matplotlib inline\n",
    "from scipy import stats\n",
    "from scipy import special\n",
    "import warnings\n",
    "warnings.filterwarnings('ignore')"
   ]
  },
  {
   "cell_type": "markdown",
   "metadata": {
    "#solution": false,
    "#staff": false,
    "#student": false
   },
   "source": [
    "# Homework 12 #\n",
    "\n",
    "### Instructions\n",
    "\n",
    "Your homeworks have two components: a written portion and a portion that also involves code.  Written work should be completed on paper, and coding questions should be done in the notebook.  You are welcome to LaTeX your answers to the written portions, but staff will not be able to assist you with LaTeX related issues. It is your responsibility to ensure that both components of the homework are submitted completely and properly to Gradescope. Refer to the bottom of the notebook for submission instructions."
   ]
  },
  {
   "cell_type": "markdown",
   "metadata": {
    "#solution": false,
    "#staff": false,
    "#student": false
   },
   "source": [
    "### Preliminary: Distributions ###\n",
    "The code below will help you in some of the exercises. Please refer to it as needed.\n",
    "\n",
    "**Discrete Distribution Table Defined by a Probability Function**\n",
    "\n",
    "`Table().values(values_array).probability_function(name_of_function)` evaluates to the distribution table of a discrete random variable $X$ such that:\n",
    "\n",
    "- `values_array` is an array consisting of the possible values of $X$\n",
    "- `name_of_function` is the name of a function that takes $x$ as its argument and returns $P(X =x)$\n",
    "\n",
    "**Beta Density**\n",
    "\n",
    "For an array `x` of values in the unit interval, `stats.beta.pdf(x, r, s)` evaluates to the array f(`x`) where $f$ is the beta (`r`, `s`) density."
   ]
  },
  {
   "cell_type": "markdown",
   "metadata": {
    "#solution": false,
    "#staff": false,
    "#student": false
   },
   "source": [
    "### Preliminary: Line Plots ###\n",
    "In Data 8 you used `Table.plot` to draw line plots, but in this class the line plots have typically been drawn using the `plot` function of `matplotlib`. Here is the syntax; you are going to need it in the exercises. It's easier than setting up tables first, especially when you want to overlay multiple plots.\n",
    "\n",
    "The `pyplot` module of `matplotlib` has been imported for you as `plt`. This is its standard abbreviation.\n",
    "\n",
    "Let `x` and `y` be two numerical arrays of the same length. Then `plt.plot(x, y)` produces a line plot with values of `x` on the horizontal axis and the corresponding values of `y` on the vertical. The plot \"joins the dots\" (`x.item(0)`, `y.item(0)`), (`x.item(1)`, `y.item(1)`), (`x.item(2)`, `y.item(2)`), and so on.\n",
    "\n",
    "The optional argument `lw=n` can be used to set a line width of `n` units. Just use `lw=2` in this homework.\n",
    "\n",
    "The semicolon at the end of the last line of code in each cell stops `matplotlib` from blurting out text that we don't need here.\n",
    "\n",
    "Run these cells to see some examples. Note the overlaid plots: they are straightforward to draw, and Python chooses a different color for each plot. "
   ]
  },
  {
   "cell_type": "code",
   "execution_count": null,
   "metadata": {
    "#solution": false,
    "#staff": false,
    "#student": false
   },
   "outputs": [],
   "source": [
    "x = np.arange(0, 1.01, 0.01)\n",
    "x_squared = x ** 2\n",
    "plt.plot(x, x_squared);"
   ]
  },
  {
   "cell_type": "code",
   "execution_count": null,
   "metadata": {
    "#solution": false,
    "#staff": false,
    "#student": false
   },
   "outputs": [],
   "source": [
    "plt.plot(x, x_squared, lw=2);"
   ]
  },
  {
   "cell_type": "code",
   "execution_count": null,
   "metadata": {
    "#solution": false,
    "#staff": false,
    "#student": false
   },
   "outputs": [],
   "source": [
    "x_cubed = x ** 3\n",
    "plt.plot(x, x_squared, lw=2)\n",
    "plt.plot(x, x_cubed, lw=2);"
   ]
  },
  {
   "cell_type": "markdown",
   "metadata": {
    "#solution": false,
    "#staff": false,
    "#student": false
   },
   "source": [
    "You can get more fancy with labels and legends, but you don't have to do that in this homework."
   ]
  },
  {
   "cell_type": "code",
   "execution_count": null,
   "metadata": {
    "#solution": false,
    "#staff": false,
    "#student": false
   },
   "outputs": [],
   "source": [
    "x_cubed = x ** 3\n",
    "plt.plot(x, x_squared, lw=2, label = 'Square')\n",
    "plt.plot(x, x_cubed, lw=2, label = 'Cube')\n",
    "plt.legend()\n",
    "plt.xlabel('x');"
   ]
  },
  {
   "cell_type": "markdown",
   "metadata": {
    "#solution": false,
    "#staff": false,
    "#student": false
   },
   "source": [
    "This is only a tiny fraction of what you can do with `matplotlib`. For more, here is a great [tutorial](https://www.labri.fr/perso/nrougier/teaching/matplotlib/matplotlib.html) by [Nicolas Rougier](https://www.labri.fr/perso/nrougier/)."
   ]
  },
  {
   "cell_type": "markdown",
   "metadata": {
    "#solution": false,
    "#staff": false,
    "#student": false
   },
   "source": [
    "### 1.  Heads in Tosses of a Random Coin ###\n",
    "Let $X$ be a random proportion with a prior distribution that is beta $(2, 3)$. Given $X = p$, let $N$ be the number of heads in 5 tosses of a $p$-coin.\n",
    "\n",
    "**a)** Plot the prior density of $X$."
   ]
  },
  {
   "cell_type": "code",
   "execution_count": null,
   "metadata": {
    "#solution": false,
    "#staff": false,
    "#student": true
   },
   "outputs": [],
   "source": [
    "# Your answer to 1a\n",
    "\n",
    "x = np.arange(0, 1.01, 0.01)\n",
    "\n",
    "...\n",
    "\n",
    "plt.title('Beta $(2, 3)$ density');"
   ]
  },
  {
   "cell_type": "markdown",
   "metadata": {
    "#solution": false,
    "#staff": false,
    "#student": false
   },
   "source": [
    "**b)** For each $n = 0, 1, 2, 3, 4, 5$, plot the posterior density of $X$ given $N=n$. All six plots should be on the same graph. "
   ]
  },
  {
   "cell_type": "code",
   "execution_count": null,
   "metadata": {
    "#solution": false,
    "#staff": false,
    "#student": true
   },
   "outputs": [],
   "source": [
    "# Your answer to 1b\n"
   ]
  },
  {
   "cell_type": "markdown",
   "metadata": {
    "#solution": false,
    "#staff": false,
    "#student": false
   },
   "source": [
    "**c)** For each $n = 0, 1, 2, 3, 4, 5$, find the MAP estimate of the probability of heads given $N=n$, by completing the cell below with an appropriate expression. Here `map_estimates` is an array that contains all the MAP estimates. \n",
    "\n",
    "By eye, check that your answers are consistent with the graphs in (b)."
   ]
  },
  {
   "cell_type": "code",
   "execution_count": null,
   "metadata": {
    "#solution": false,
    "#staff": false,
    "#student": true
   },
   "outputs": [],
   "source": [
    "# Your answer to 1c\n",
    "\n",
    "r = 2\n",
    "s = 3\n",
    "n = 5\n",
    "k = np.arange(0, n+1)\n",
    "\n",
    "map_estimates = ...\n",
    "    \n",
    "map_estimates"
   ]
  },
  {
   "cell_type": "markdown",
   "metadata": {
    "#solution": false,
    "#staff": false,
    "#student": false
   },
   "source": [
    "**d)** Complete the cell below to display the probability histogram of $N$. You can use any number of lines of code in the definition. In the blanks in the last line of the cell, enter the name of the distribution and provide the numerical parameters.\n",
    "\n",
    "If you want to, you can use `special.factorial(j)` to get the factorials of the non-negative integer array `j`. The `special` module of `SciPy` has been imported for you. But you can also write the code without computing factorials."
   ]
  },
  {
   "cell_type": "code",
   "execution_count": null,
   "metadata": {
    "#solution": false,
    "#staff": false,
    "#student": true
   },
   "outputs": [],
   "source": [
    "# Your answer to 1d\n",
    "\n",
    "def probs_N(n):\n",
    "    ...\n",
    "    ...\n",
    "    return ...\n",
    "\n",
    "dist = Table().values(...).probability_function(probs_N)\n",
    "Plot(dist)\n",
    "plt.title('... Distribution with Parameters ...');"
   ]
  },
  {
   "cell_type": "markdown",
   "metadata": {
    "#solution": false,
    "#staff": false,
    "#student": false
   },
   "source": [
    "**e)** Find the numerical value of $E(N)$ without using a code cell."
   ]
  },
  {
   "cell_type": "markdown",
   "metadata": {
    "#solution": false,
    "#staff": false,
    "#student": false
   },
   "source": [
    "#newpage"
   ]
  },
  {
   "cell_type": "markdown",
   "metadata": {
    "#solution": false,
    "#staff": false,
    "#student": false
   },
   "source": [
    "### 2. Two-Colored Die ###\n",
    "A die that has two green faces and four blue faces is rolled repeatedly. Let $R$ be the number of rolls till both colors have appeared.\n",
    "\n",
    "**a)** Find $E(R)$.\n",
    "\n",
    "**b)** Find $SD(R)$."
   ]
  },
  {
   "cell_type": "markdown",
   "metadata": {
    "#solution": false,
    "#staff": false,
    "#student": false
   },
   "source": [
    "#newpage"
   ]
  },
  {
   "cell_type": "markdown",
   "metadata": {
    "#solution": false,
    "#staff": false,
    "#student": false
   },
   "source": [
    "### 3. Chinese Restaurant Process: Long Run Proportion at Table 1 ###\n",
    "The goal of this exercise is for you to explain a density that you observed at the end of Lab 10.\n",
    "\n",
    "Parts **a** and **b** are about the \"beta binomial\" process we studied extensively in class. You can just apply the results derived in class. You'll find them in [Chapter 21](http://prob140.org/textbook/Chapter_21/00_The_Beta_and_the_Binomial.html) of the textbook.\n",
    "\n",
    "**a)** Define the \"Beta $(1, \\theta)$ Binomial\" process as follows:\n",
    "\n",
    "- $X$ has beta $(1, \\theta)$ distribution.\n",
    "- Given $X = p$, there is a sequence of i.i.d. Bernoulli $(p)$ trials $I_1, I_2, \\ldots $.\n",
    "- $S_n = I_1 + I_2 + \\cdots + I_n$ is the number of successes in the first $n$ trials.\n",
    "\n",
    "Fill in the blank with the name of a distribution and the appropriate parameters:\n",
    "\n",
    "As $n$ gets large, with probability 1 the proportion $\\frac{S_n}{n}$ approaches a limit. The distribution of this limit is $\\underline{~~~~~~~~~~~~~~~~~~~~~~~~~~~~~~~~~~~~}$.\n",
    "\n",
    "**b)** For the Beta $(1, \\theta)$ Binomial process, find the transition probability $P(S_n = k+1 \\mid S_{n-1} = k)$.\n",
    "\n",
    "Given $S_{n-1} = k$, what are the other possible values of $S_n$ and what are their probabilities?\n",
    "\n",
    "**c)** Now refer to Lab 10 for the description of Chinese Restaurant process with parameter $\\theta$. As in the lab, let $W_n$ be the number of people at Table 1 at time $n$. The goal is of this part of the exercise is to figure out the transition behavior of $W_n$.\n",
    "\n",
    "Because Table 1 starts deterministically with Person 1 at time 1, we have to be a bit careful about what's random and what's constant. Let's consider $V_n = W_n - 1$, the random number of people *other than Person 1* who are at Table 1 at time $n$.\n",
    "\n",
    "Find $P(V_{n+1} = k+1 \\mid V_n = k)$. This is a straightforward application of the rules of the Chinese Restaurant process, but you have to be careful about how many people are at Table 1 when Person $n+1$ enters the system.\n",
    "\n",
    "**d)** Given $V_n = k$, what are the possible values of $V_{n+1}$? Compare the transition behavior of the following two sequences:\n",
    "\n",
    "- $V_2, V_3, \\ldots $ of the Chinese Restaurant process with parameter $\\theta$\n",
    "- $S_1, S_2, \\ldots $ of the Beta $(1, \\theta)$ Binomial process\n",
    "\n",
    "Then explain why the distribution of the long run proportion of people at Table 1 of the Chinese Restaurant process is beta $(1, \\theta)$ where $\\theta$ is the parameter of the process. That is, recall that you saw in the lab that the paths of $\\frac{W_n}{n}$ converge as $n \\to \\infty$, and explain why the limit of $\\frac{W_n}{n}$ as $n \\to \\infty$ has the beta $(1, \\theta)$ distribution."
   ]
  },
  {
   "cell_type": "markdown",
   "metadata": {
    "#solution": false,
    "#staff": false,
    "#student": false
   },
   "source": [
    "#newpage"
   ]
  },
  {
   "cell_type": "markdown",
   "metadata": {
    "#solution": false,
    "#staff": false,
    "#student": false
   },
   "source": [
    "### 4. Sections ###\n",
    "A class of 60 students has three sections. Summary statistics for scores on Quiz 7:\n",
    "- Section 1: 25 students, mean 23, SD 3\n",
    "- Section 2: 20 students, mean 25, SD 2 \n",
    "- Section 3: 15 students, mean 27, SD 4\n",
    "\n",
    "Let $S$ be the Quiz 7 score of a student picked at random from the class. Use the code cell below to calculate numerical answers for parts a and b.\n",
    "\n",
    "**a) [WRITTEN + CODE]** Find $E(S)$.\n",
    "\n",
    "**b) [WRITTEN + CODE]** Find $SD(S)$."
   ]
  },
  {
   "cell_type": "code",
   "execution_count": null,
   "metadata": {
    "#solution": false,
    "#staff": false,
    "#student": true
   },
   "outputs": [],
   "source": [
    "#calculation for 4a\n",
    "..."
   ]
  },
  {
   "cell_type": "code",
   "execution_count": null,
   "metadata": {
    "#solution": false,
    "#staff": false,
    "#student": true
   },
   "outputs": [],
   "source": [
    "#calculation for 4b\n",
    "..."
   ]
  },
  {
   "cell_type": "markdown",
   "metadata": {
    "#solution": false,
    "#staff": false,
    "#student": false
   },
   "source": [
    "#newpage"
   ]
  },
  {
   "cell_type": "markdown",
   "metadata": {
    "#solution": false,
    "#staff": false,
    "#student": false
   },
   "source": [
    "### 5. Uniform Stick-Breaking ###\n",
    "A point $X$ is chosen uniformly from the interval $(0, 10)$ and then a point $Y$ is chosen uniformly from the interval $(0, X)$. This can be imagined as snapping a stick of length 10 and then snapping one of the broken bits. [Stick-breaking](https://en.wikipedia.org/wiki/Dirichlet_process#The_stick-breaking_process) processes are related to the Chinese Restaurant process.\n",
    "\n",
    "**a)** Find $E(X)$ and $Var(X)$. See [Section 15.3](http://prob140.org/textbook/Chapter_15/03_Expectation.html#Uniform-$(a,-b)$) of the textbook for the variance of the uniform.\n",
    "\n",
    "**b)** Find $E(Y)$ and $Var(Y)$ by conditioning on $X$."
   ]
  },
  {
   "cell_type": "markdown",
   "metadata": {
    "#solution": false,
    "#staff": false,
    "#student": false,
    "collapsed": true
   },
   "source": [
    "## Submission Instructions ##\n",
    "\n",
    "Many assignments throughout the course will have a written portion and a code portion. Please follow the directions below to properly submit both portions.\n",
    "\n",
    "### Written Portion ###\n",
    "*  Scan all the pages into a PDF. You can use any scanner or a phone using an application. Please **DO NOT** simply take pictures using your phone. \n",
    "* Please start a new page for each question. If you have already written multiple questions on the same page, you can crop the image or fold your page over (the old-fashioned way). This helps expedite grading.\n",
    "* It is your responsibility to check that all the work on all the scanned pages is legible.\n",
    "\n",
    "### Code Portion ###\n",
    "* Save your notebook using File > Save and Checkpoint.\n",
    "* Generate a PDF file using File > Download as > PDF via LaTeX. This might take a few seconds and will automatically download a PDF version of this notebook.\n",
    "    * If you have issues, please make a follow-up post on the general HW 12 Piazza thread.\n",
    "    \n",
    "### Submitting ###\n",
    "* Combine the PDFs from the written and code portions into one PDF.  [Here](https://smallpdf.com/merge-pdf) is a useful tool for doing so. \n",
    "* Submit the assignment to Homework 12 on Gradescope. \n",
    "* **Make sure to assign each page of your pdf to the correct question.**\n",
    "* **It is your responsibility to verify that all of your work shows up in your final PDF submission.**\n",
    "\n",
    "\n",
    "### **We will not grade assignments which do not have pages selected for each question.** "
   ]
  }
 ],
 "metadata": {
  "anaconda-cloud": {},
  "checksums": [
   "1ccfeeb045915fb7127619e3ebb3482e",
   "0a0301250528f1b4b19d89d505d466fb",
   "354b421e611daa18183b99dd3d94b84c",
   "37d406168cacbe7d393e931a08510ea0",
   "0fde4362e79350f2b43dc53e456c4b28",
   "90bf4cc29236d1db23546a6f89de2ab6",
   "16b87b20192049957884a89493f0647d",
   "44cf9b400d6534efa2ab19ef1ec816e4",
   "021d2fb1deadeb98cd1709b2e66240a0",
   "6da888c26fc5b44a95a8d234c28cc5ca",
   "32678855304dc7424eca94d77d3cd8d0",
   "99447962c97fa596c16239ca7fb25461",
   "48ca1df12852f4a440f20cda155786cf",
   "bc9a9c95e6061c62e149750c9e23189d",
   "1afdf8f95e1f48c189adeaab799ff54c",
   "7d2aa1e870f90ce8f63838cf095420a9",
   "c9e80d0bb1caea5e8d55d1de0e2cfa94",
   "5b042132fa293dfd9f986590043d9adc",
   "d060ce919474c084b0a3fdf12e6ddab1",
   "1c91fa96b2ba6f0aece6c63a26d6c354",
   "640061103a186fd26f59746dd4d6de57",
   "c40fb44ea80d75e5207c42e8a2997745",
   "640061103a186fd26f59746dd4d6de57",
   "2ac3f8398cb9f18bcd41ab08bfdd5529",
   "640061103a186fd26f59746dd4d6de57",
   "ba178c8c5276f1ef3807fa0b777de001",
   "6fab291ca186d22c261f1cdaf0019fc8",
   "7f86a9ef63d6202377f250a1a4915b4c",
   "640061103a186fd26f59746dd4d6de57",
   "9befec03546d34a0ec8d4cfb9282cc21",
   "16fad418ab74c88086af11174bc4a072"
  ],
  "kernelspec": {
   "display_name": "Python 3",
   "language": "python",
   "name": "python3"
  },
  "language_info": {
   "codemirror_mode": {
    "name": "ipython",
    "version": 3
   },
   "file_extension": ".py",
   "mimetype": "text/x-python",
   "name": "python",
   "nbconvert_exporter": "python",
   "pygments_lexer": "ipython3",
   "version": "3.7.3"
  },
  "number_of_pagebreaks": 4
 },
 "nbformat": 4,
 "nbformat_minor": 1
}
