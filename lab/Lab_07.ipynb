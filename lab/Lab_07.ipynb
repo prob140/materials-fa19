{
 "cells": [
  {
   "cell_type": "markdown",
   "metadata": {},
   "source": [
    "<table align=\"left\" style=\"border-style: hidden\" class=\"table\"> <tr><td class=\"col-md-2\"><img style=\"float\" src=\"http://prob140.org/assets/icon256.png\" alt=\"Prob140 Logo\" style=\"width: 120px;\"/></td><td><div align=\"left\"><h3 style=\"margin-top: 0;\">Probability for Data Science</h3><h4 style=\"margin-top: 20px;\">UC Berkeley, Fall 2019</h4><p>Ani Adhikari and Jim Pitman</p>CC BY-NC 4.0</div></td></tr></table><!-- not in pdf -->"
   ]
  },
  {
   "cell_type": "code",
   "execution_count": null,
   "metadata": {
    "#solution": false,
    "#staff": false,
    "#student": false
   },
   "outputs": [],
   "source": [
    "# SETUP\n",
    "from datascience import *\n",
    "from prob140 import *\n",
    "import numpy as np\n",
    "%matplotlib inline\n",
    "import matplotlib.pyplot as plt\n",
    "plt.style.use('fivethirtyeight')\n",
    "import pylab\n",
    "from scipy import stats\n",
    "import ipywidgets as widgets\n",
    "from ipywidgets import interact\n",
    "from IPython.display import display\n",
    "from matplotlib.ticker import FormatStrFormatter"
   ]
  },
  {
   "cell_type": "code",
   "execution_count": null,
   "metadata": {
    "#solution": false,
    "#staff": false,
    "#student": false
   },
   "outputs": [],
   "source": [
    "def search(x_limits, cdf, u):\n",
    "    \"\"\"\n",
    "    Runs a binary search to find the inverse cdf.\n",
    "    \"\"\"\n",
    "    # Handle possible asymptotes.\n",
    "    if cdf(x_limits[0]) > u:\n",
    "        return x_limits[0]\n",
    "    if cdf(x_limits[1]) < u:\n",
    "        return x_limits[1]\n",
    "    \n",
    "    mid = (x_limits[0] + x_limits[1])/2\n",
    "    diff = u - cdf(mid)\n",
    "    if np.abs(diff) < 0.01:\n",
    "        return mid\n",
    "    if diff < 0:\n",
    "        return search((x_limits[0], mid), cdf, u)\n",
    "    return search((mid, x_limits[1]), cdf, u)\n",
    "\n",
    "def plot_axes(cdf_table):\n",
    "    values = cdf_table.column(cdf_table.num_columns - 1)\n",
    "    cum = list(np.cumsum(values))\n",
    "    cur_axes = plt.gca()\n",
    "    cur_axes.axes.get_xaxis().set_visible(False)\n",
    "    plt.yticks([0] + cum)\n",
    "    plt.ylim(-0.1, 1.1)\n",
    "    plt.plot([0,0], [0,1], color=\"k\", lw=3)\n",
    "    plt.xlim(-0.02, 1)\n",
    "    plt.scatter([0]*(len(cum) + 1),\n",
    "                [0] + cum, s=55, color=\"k\")\n",
    "\n",
    "def plot_discrete_cdf(cdf_table, u=None):\n",
    "    \"\"\"\n",
    "    Plots the cdf of a discrete distribution.\n",
    "    \n",
    "    Parameters\n",
    "    ----------\n",
    "    cdf_table : Table\n",
    "        Table of cdf values.\n",
    "    u : float\n",
    "        Value from (0, 1) to plot inverse cdf of.\n",
    "    \"\"\"\n",
    "    values = cdf_table.column(0)\n",
    "    values = np.append(values[0] - 2, values)\n",
    "\n",
    "    cum = cdf_table.column(cdf_table.num_columns - 1)\n",
    "    cum = np.append(0, np.cumsum(cum))\n",
    "\n",
    "    for i in range(len(values) - 1):\n",
    "        plt.plot([values[i], values[i+1]], [cum[i], cum[i]],\n",
    "                 color=\"darkblue\")\n",
    "        plt.plot([values[i+1], values[i+1]], [cum[i], cum[i+1]],\n",
    "                 ls=\"--\", color=\"darkblue\" )\n",
    "    plt.scatter(values, cum, s=50, color=\"darkblue\")    \n",
    "\n",
    "    plt.plot([values[-1], values[-1] + 2], [1,1],\n",
    "             color=\"darkblue\")\n",
    "\n",
    "    plt.xlim(values[0], values[-1] + 2)\n",
    "    plt.ylim(-0.1, 1.1)\n",
    "    plt.xlabel('$x$')\n",
    "    plt.ylabel('CDF at $x$')\n",
    "    plt.title('Graph of CDF');\n",
    "    \n",
    "    if u != None:\n",
    "        for i in range(len(values)):\n",
    "            if u <= cum[i]:\n",
    "                index = values[i]\n",
    "                break\n",
    "        height = u\n",
    "        \n",
    "        plt.plot([values[0], (index+values[0])/2], [height, height],\n",
    "                 marker='>', color='red', lw=1)\n",
    "        plt.plot([(index+values[0])/2, index], [height, height],\n",
    "                 color='red', lw=1)\n",
    "        plt.plot([index, index], [height, height/2], marker=\"v\",\n",
    "                 color=\"red\", lw=1)\n",
    "        plt.plot([index, index], [0, height/2], color=\"red\", lw=1)\n",
    "\n",
    "def plot_continuous_cdf(x_limits, cdf, u=None):\n",
    "    \"\"\"\n",
    "    Plots the cdf of a continuous distribution.\n",
    "    \"\"\"\n",
    "    x = np.linspace(*x_limits, 100)\n",
    "    cdf_values = list(map(cdf, x))\n",
    "    plt.plot(x, cdf_values, color=\"darkblue\")\n",
    "    plt.xlabel('$x$')\n",
    "    plt.ylabel('CDF at $x$')\n",
    "    plt.title('Graph of CDF');\n",
    "    \n",
    "    if not u is None:\n",
    "        index = search(x_limits, cdf, u)\n",
    "        height = u\n",
    "\n",
    "        plt.plot([x_limits[0], (index+x_limits[0])/2],\n",
    "                 [height, height], marker='>', color='red', lw=1)\n",
    "        plt.plot([(index+x_limits[0])/2, index],\n",
    "                 [height, height], color='red', lw=1)\n",
    "        plt.plot([index, index], [height, height/2],\n",
    "                 marker=\"v\", color=\"red\", lw=1)\n",
    "        plt.plot([index, index], [0, height/2], color=\"red\", lw=1)\n",
    "\n",
    "\n",
    "    plt.xlim(*x_limits)\n",
    "\n",
    "def unit_interval_to_discrete(cdf_table):\n",
    "    uniform_slider = widgets.FloatSlider(\n",
    "        value=0.5,min=0,max=1,step=0.02, description='u')\n",
    "    @interact(u = uniform_slider)\n",
    "    def plot(u):\n",
    "        plot_discrete_cdf(cdf_table, u)\n",
    "\n",
    "\n",
    "def unit_interval_to_continuous(x_limits, cdf):\n",
    "    uniform_slider2 = widgets.FloatSlider(\n",
    "        value=0.5, min=0,max=1,step=0.02, description='u')\n",
    "    \n",
    "    @interact(u = uniform_slider2)\n",
    "    def plot(u):\n",
    "        if (cdf(u) > x_limits[1] or cdf(u) < x_limits[0]):\n",
    "            plot_continuous_cdf(x_limits, cdf)\n",
    "        else:\n",
    "            plot_continuous_cdf(x_limits, cdf, u)\n",
    "    \n",
    "def override_hist(*args, **kwargs):\n",
    "    \"\"\"\n",
    "    This cleans up some unfortunate floating point precision\n",
    "    bugs in the datascience library\n",
    "    \"\"\"\n",
    "    #kwargs['edgecolor'] = 'w'\n",
    "    Table.hist2(*args, **kwargs)\n",
    "    ax = plt.gca()\n",
    "    ticks = ax.get_xticks()\n",
    "    if np.any(np.array(ticks) != np.rint(ticks)):\n",
    "        ax.xaxis.set_major_formatter(FormatStrFormatter('%.2f'))\n",
    "\n",
    "if not hasattr(Table, 'hist2'):\n",
    "    Table.hist2 = Table.hist\n",
    "    \n",
    "Table.hist = override_hist"
   ]
  },
  {
   "cell_type": "code",
   "execution_count": null,
   "metadata": {
    "#solution": false,
    "#staff": false,
    "#student": false
   },
   "outputs": [],
   "source": [
    "def plot_radial_distances():\n",
    "    n = 500\n",
    "    sampled_thetas = np.random.uniform(0, 2 * np.pi, n)\n",
    "    sampled_radii = np.sqrt(np.random.uniform(0, 1, n))\n",
    "    x = sampled_radii * np.cos(sampled_thetas)\n",
    "    y = sampled_radii * np.sin(sampled_thetas)\n",
    "    theta = np.linspace(0, 2 * np.pi, 100)\n",
    "    uniform_slider = widgets.IntSlider(\n",
    "        value=10,\n",
    "        min=1,\n",
    "        max=n,\n",
    "        step=1,\n",
    "        description='n'\n",
    "    )\n",
    "    @interact(i=uniform_slider)\n",
    "    def plot(i):\n",
    "        fig = plt.figure(figsize=(10, 5))\n",
    "        ax1 = fig.add_subplot(1, 2, 1)\n",
    "        ax1.plot(np.cos(theta), np.sin(theta), color='gold')\n",
    "        ax1.scatter(x[:i], y[:i], color='darkblue', s=10)\n",
    "        ax1.set_aspect('equal')\n",
    "        ax1.set_title('Simulated Points')\n",
    "        ax1.set_xticks(np.arange(-1, 1.5, 0.5))\n",
    "        ax1.set_yticks(np.arange(-1, 1.5, 0.5))\n",
    "        ax1.set_xlabel('x')\n",
    "        ax1.set_ylabel('y')\n",
    "        ax2 = fig.add_subplot(1, 2, 2)\n",
    "        ax2.set_title('Empirical Histogram of Radius')\n",
    "        ax2.hist(sampled_radii[:i], bins=np.linspace(0, 1, 25), density=True, color='darkblue')\n",
    "        ax2.set_ylabel('Percent per Unit')\n",
    "        plt.yticks(ax2.get_yticks(), ax2.get_yticks() * 100);\n",
    "        ax2.set_xlabel('r')\n",
    "        plt.subplots_adjust(wspace=0.5)"
   ]
  },
  {
   "cell_type": "markdown",
   "metadata": {
    "#solution": false,
    "#staff": false,
    "#student": false
   },
   "source": [
    "## Lab Resources\n",
    "\n",
    "* [`prob 140` Library Documentation](http://prob140.org/prob140/)\n",
    "* [Data 8 Python Reference](http://data8.org/fa18/python-reference.html)\n",
    "* [Prob 140 Code Reference Sheet](http://prob140.org/assets/prob140_code_reference.pdf)\n",
    "* [`scipy.stats` Documentation](https://docs.scipy.org/doc/scipy/reference/stats.html)"
   ]
  },
  {
   "cell_type": "markdown",
   "metadata": {
    "#solution": false,
    "#staff": false,
    "#student": false
   },
   "source": [
    "# Lab 7: Simulation and the CDF#"
   ]
  },
  {
   "cell_type": "markdown",
   "metadata": {
    "#solution": false,
    "#staff": false,
    "#student": false
   },
   "source": [
    "Simulation helps us understand properties of random variables. For example, earlier in the term you saw `simulate_path` for simulating Markov Chains; this was helpful for understanding transition behavior and reversibility. The `Table` method `sample` simulates drawing uniformly at random from the rows of a table; in Data 8, you used it understand the bootstrap. Simulation is also important because properties observed in simulations can lead to the development of new results. \n",
    "\n",
    "In this lab you will simulate random variables with specified distributions.\n",
    "\n",
    "What you will learn:\n",
    "- How to use `SciPy` for simulation\n",
    "- How to construct and read graphs of cumulative distribution functions (cdfs)\n",
    "- How being able to simulate just one distribution allows us to simulate all others"
   ]
  },
  {
   "cell_type": "markdown",
   "metadata": {
    "#solution": false,
    "#staff": false,
    "#student": false
   },
   "source": [
    "## Instructions\n",
    "Your labs have two components: a written portion and a portion that also involves code. Written work should be completed on paper, and coding questions should be done in the notebook. You are welcome to LaTeX your answers to the written portions, but staff will not be able to assist you with LaTeX related issues. It is your responsibility to ensure that both components of the lab are submitted completely and properly to Gradescope. Refer to the bottom of the notebook for submission instructions."
   ]
  },
  {
   "cell_type": "markdown",
   "metadata": {
    "#solution": false,
    "#staff": false,
    "#student": false
   },
   "source": [
    "#newpage\n",
    "\n",
    "## Part 1: Simulation in SciPy ##\n",
    "The `stats` module of `SciPy` is familiar to you by now. For any of the well known distributions, you can use `stats` to simulate values of a random variable with that distribution. The general call is `stats.distribution_name.rvs(size = n)` where `rvs` stands for \"random variates\" and `n` is the number of independent replications you want. \n",
    "\n",
    "Every statistical system has conventions for how to specify the parameters of a distribution. In this lab we will tell you the specifications for a few distributions. Later you will be able to see a general pattern in the specifications."
   ]
  },
  {
   "cell_type": "markdown",
   "metadata": {
    "#solution": false,
    "#staff": false,
    "#student": false
   },
   "source": [
    "### 1a) Uniform $(0, 1)$ ###\n",
    "The call is straightforward: `stats.uniform.rvs(0, 1, size=n)`. Complete the cell below to draw the histogram of 100,000 simulated values of a random variable that has the uniform $(0, 1)$ distribution. The `hist` option `bins=25` results in 25 equal bins."
   ]
  },
  {
   "cell_type": "code",
   "execution_count": null,
   "metadata": {
    "#solution": false,
    "#staff": false,
    "#student": true
   },
   "outputs": [],
   "source": [
    "sim_uniform = ...\n",
    "sim_uniform_tbl = Table().with_column(\n",
    "    'Simulated Uniform (0, 1)', sim_uniform\n",
    ")\n",
    "sim_uniform_tbl.hist(bins=25)"
   ]
  },
  {
   "cell_type": "markdown",
   "metadata": {
    "#solution": false,
    "#staff": false,
    "#student": false
   },
   "source": [
    "### 1b) Reading the Scales of the Histogram ###\n",
    "The unit on the horizontal axis is any unit of length; you can think of it as centimeters if you want, but we will just refer to it as the \"unit\". Fill in the blanks below and provide units where appropriate. Some units have been provided for you.\n",
    "\n",
    "(i) The width of each bin is $\\underline{~~~~~~~~~~~~~~~~~~~~~~~~~~~~}$ units.\n",
    "\n",
    "(ii) The height of each bar is approximately $\\underline{~~~~~~~~~~~~~~~~~~~~~~~~~~~~~~~~~}$ per $\\underline{~~~~~~~~~~~~~~~~~~~~~~~~~~~~~~~~~}$.\n",
    "\n",
    "(iii) Histograms represent percents by $\\underline{~~~~~~~~~~~~~~~~~~~~~~~~~~~~}$, so the answers to (i) and (ii) imply that the percent of simulated values in each bin is approximately $\\underline{~~~~~~~~~~~~~~~~~~~~~~~~~~~~}$%.\n",
    "\n",
    "(iv) Let the random variable $U$ have the uniform $(0, 1)$ distribution, and let $B$ be any bin of the histogram. The answer to (i) implies that $P(U \\in B) = \\underline{~~~~~~~~~~~~~~~~~~~~~~~~~~~~}$%.\n",
    "\n",
    "(v) If instead of `bins=25` we had used `bins=20` as the option to `hist`, then the answer to (iv) would have been $\\underline{~~~~~~~~~~~~~~~~~~~~~~~~~~~~}$%"
   ]
  },
  {
   "cell_type": "markdown",
   "metadata": {
    "#solution": false,
    "#staff": false,
    "#student": true
   },
   "source": [
    "\n",
    "**Your answer here**"
   ]
  },
  {
   "cell_type": "markdown",
   "metadata": {
    "#solution": false,
    "#staff": false,
    "#student": false
   },
   "source": [
    "### 1c) Exponential ###\n",
    "The exponential distribution has two common parametrizations. One is the rate $\\lambda$, which is what we use in Prob 140. The other is the mean $\\frac{1}{\\lambda}$. The mean is called the `scale` parameter in `stats`. Complete the cell below to simulate 100,000 values of a random variable that has the exponential distribution with rate $0.5$."
   ]
  },
  {
   "cell_type": "code",
   "execution_count": null,
   "metadata": {
    "#solution": false,
    "#staff": false,
    "#student": true
   },
   "outputs": [],
   "source": [
    "sim_expon = ...                 # array of simulated values\n",
    "sim_expon_tbl = Table()...\n",
    "...hist(...)\n",
    "plt.xticks(np.arange(0, 21, 2));"
   ]
  },
  {
   "cell_type": "markdown",
   "metadata": {
    "#solution": false,
    "#staff": false,
    "#student": false
   },
   "source": [
    "Find the average of the simulated values and check that it is consistent with the rate."
   ]
  },
  {
   "cell_type": "code",
   "execution_count": null,
   "metadata": {
    "#solution": false,
    "#staff": false,
    "#student": true
   },
   "outputs": [],
   "source": [
    "..."
   ]
  },
  {
   "cell_type": "markdown",
   "metadata": {
    "#solution": false,
    "#staff": false,
    "#student": false
   },
   "source": [
    "#newpage\n",
    "\n",
    "## Part 2. The Idea ##\n",
    "How are all these random numbers generated? In the rest of the lab we will develop the method that underlies all the simulations above, by considering examples of increasing complexity. \n",
    "\n",
    "Our starting point is a distribution on just four values. \n",
    "\n",
    "Suppose $X$ has the distribution `dist_X` below. "
   ]
  },
  {
   "cell_type": "code",
   "execution_count": null,
   "metadata": {
    "#solution": false,
    "#staff": false,
    "#student": false
   },
   "outputs": [],
   "source": [
    "vals_X = make_array(-2, 1, 4, 7)\n",
    "probs_X = make_array(0.3, 0.1, 0.2,0.4)\n",
    "\n",
    "dist_X = Table().values(vals_X).probabilities(probs_X)\n",
    "dist_X"
   ]
  },
  {
   "cell_type": "markdown",
   "metadata": {
    "#solution": false,
    "#staff": false,
    "#student": false
   },
   "source": [
    "Our goal is to simulate one value of $X$. That is, we want to come up with a process that returns one of the four possible values of $X$ with the right probabilities."
   ]
  },
  {
   "cell_type": "markdown",
   "metadata": {
    "#solution": false,
    "#staff": false,
    "#student": false
   },
   "source": [
    "### 2a) A Vertical Unit Interval ###\n",
    "The graphic below shows the probabilities in `dist_X` stacked vertically as in Lab 4. From the bottom to the top, therefore, you have the unit interval.\n",
    "\n",
    "Now imagine throwing a dart at the unit interval. That is, let $U$ be a random variable that has the uniform distribution on $(0, 1)$, and suppose you mark the value of $U$ on the unit interval shown in the graph."
   ]
  },
  {
   "cell_type": "code",
   "execution_count": null,
   "metadata": {
    "#solution": false,
    "#staff": false,
    "#student": false
   },
   "outputs": [],
   "source": [
    "plot_axes(dist_X)"
   ]
  },
  {
   "cell_type": "markdown",
   "metadata": {
    "#solution": false,
    "#staff": false,
    "#student": false
   },
   "source": [
    "Find the following probabilities and see how they are related to the distribution of $X$.\n",
    "\n",
    "(i) $P(U \\le 0.3)$\n",
    "\n",
    "(ii) $P(0.3 < U \\le 0.4)$\n",
    "\n",
    "(iii) $P(0.4 < U \\le 0.6)$\n",
    "\n",
    "(iv) $P(0.6 < U \\le 1)$\n"
   ]
  },
  {
   "cell_type": "markdown",
   "metadata": {
    "#solution": false,
    "#staff": false,
    "#student": true
   },
   "source": [
    "\n",
    "i. **Your Answer Here**\n",
    "\n",
    "ii. **Your Answer Here**\n",
    "\n",
    "iii. **Your Answer Here**\n",
    "\n",
    "iv. **Your Answer Here**"
   ]
  },
  {
   "cell_type": "markdown",
   "metadata": {
    "#solution": false,
    "#staff": false,
    "#student": false
   },
   "source": [
    "### 2b) Idea for Simulating $X$ ###\n",
    "Starting with a uniform $(0, 1)$ random variable $U$, propose a method of generating a value of $X$. \n",
    "\n",
    "Your method should take $U$ as its input and return one of the four possible values as output, in such a way that for each $i = -2, 1, 4, 7$, the chance of returning the value $i$ is $P(X = i)$.\n",
    "\n",
    "Just describe your method in words. No formula or code is needed."
   ]
  },
  {
   "cell_type": "markdown",
   "metadata": {
    "#solution": false,
    "#staff": false,
    "#student": true
   },
   "source": [
    "\n",
    "**Your Answer Here**"
   ]
  },
  {
   "cell_type": "markdown",
   "metadata": {
    "#solution": false,
    "#staff": false,
    "#student": false
   },
   "source": [
    "#newpage\n",
    "\n",
    "## Part 3. Visualizing the Idea ##\n",
    "The method `plot_discrete_cdf` takes a distribution as its argument and plots a graph of the cdf.\n",
    "\n",
    "Run the cell below to get a graph of the cdf of the random variable $X$ in Part 1."
   ]
  },
  {
   "cell_type": "code",
   "execution_count": null,
   "metadata": {
    "#solution": false,
    "#staff": false,
    "#student": false
   },
   "outputs": [],
   "source": [
    "plot_discrete_cdf(dist_X)"
   ]
  },
  {
   "cell_type": "markdown",
   "metadata": {
    "#solution": false,
    "#staff": false,
    "#student": false
   },
   "source": [
    "### 3a) Reading the Graph ###\n",
    "Let $F_X$ be the cdf of $X$. What is the definition of $F_X(2.57)$? Does the graph show the correct value for $F_X(2.57)$?"
   ]
  },
  {
   "cell_type": "markdown",
   "metadata": {
    "#solution": false,
    "#staff": false,
    "#student": true
   },
   "source": [
    "\n",
    "**Your Answer Here**"
   ]
  },
  {
   "cell_type": "markdown",
   "metadata": {
    "#solution": false,
    "#staff": false,
    "#student": false
   },
   "source": [
    "### 3b) Jumps ###\n",
    "At what points $x$ does the graph have a jump? For each point $x$ at which there is a jump, find the size of the jump in terms of the distribution of $X$."
   ]
  },
  {
   "cell_type": "markdown",
   "metadata": {
    "#solution": false,
    "#staff": false,
    "#student": true
   },
   "source": [
    "\n",
    "**Your Answer Here**"
   ]
  },
  {
   "cell_type": "markdown",
   "metadata": {
    "#solution": false,
    "#staff": false,
    "#student": false
   },
   "source": [
    "### 3c) From the Unit Interval to Values of $X$ ###\n",
    "The function `unit_interval_to_discrete` takes a distribution as its argument and displays an animation of a method that generates one value of a random variable that has the given distribution.  The method starts with a number on the unit interval.\n",
    "\n",
    "Run the cell below. Move the slider around and see how the returned value changes **depending on the starting value** in the unit interval. How is the method that is being displayed related to the one you proposed in Part 1?"
   ]
  },
  {
   "cell_type": "code",
   "execution_count": null,
   "metadata": {
    "#solution": false,
    "#staff": false,
    "#student": false
   },
   "outputs": [],
   "source": [
    "unit_interval_to_discrete(dist_X)"
   ]
  },
  {
   "cell_type": "markdown",
   "metadata": {
    "#solution": false,
    "#staff": false,
    "#student": true
   },
   "source": [
    "\n",
    "**Your answer here**"
   ]
  },
  {
   "cell_type": "markdown",
   "metadata": {
    "#solution": false,
    "#staff": false,
    "#student": false
   },
   "source": [
    "### 3d) A Random Starting Point ###\n",
    "The method `plot_discrete_cdf` that you used earlier also takes a second argument which is a number between 0 and 1. \n",
    "\n",
    "Complete the cell below so that the second argument is picked uniformly at random from (0, 1). Run the cell a few times. How is it related to the method you proposed in Part 1 for generating a value of $X$?"
   ]
  },
  {
   "cell_type": "code",
   "execution_count": null,
   "metadata": {
    "#solution": false,
    "#staff": false,
    "#student": true
   },
   "outputs": [],
   "source": [
    "plot_discrete_cdf(dist_X, ...)"
   ]
  },
  {
   "cell_type": "markdown",
   "metadata": {
    "#solution": false,
    "#staff": false,
    "#student": true
   },
   "source": [
    "\n",
    "**Your Answer Here**"
   ]
  },
  {
   "cell_type": "markdown",
   "metadata": {
    "#solution": false,
    "#staff": false,
    "#student": false
   },
   "source": [
    "#newpage\n",
    "\n",
    "## Part 4. Extension to Continuous Distributions ##\n",
    "Now suppose you want to generate a random variable that has a specified continuous distribution. Let's start with the exponential $(\\lambda)$ distribution."
   ]
  },
  {
   "cell_type": "markdown",
   "metadata": {
    "#solution": false,
    "#staff": false,
    "#student": false
   },
   "source": [
    "### 4a) [ON PAPER] Exponential CDF ###\n",
    "Let $T$ have the exponential distribution with rate $\\lambda$. Let $F_T$ be the cdf of $T$. Write the formula for $F_T$. Remember that the cdf is a function on the entire number line $(-\\infty, \\infty)$; make sure you specify the function on the whole line. "
   ]
  },
  {
   "cell_type": "markdown",
   "metadata": {
    "#solution": false,
    "#staff": false,
    "#student": false
   },
   "source": [
    "### 4b) Plotting the Exponential CDF ###\n",
    "As a numerical example, let $T$ be a random variable that has the exponential distribution with rate $\\lambda = 0.5$, or equivalently, expectation $2$. Define a function `expon_mean2_cdf` that takes a numerical argument $x$ and returns $F_T(x)$. Use `np.exp(y)` for $e^y$.\n",
    "\n",
    "Make sure that for **all** numerical values of $x$ your function returns the value you specified in **4a**."
   ]
  },
  {
   "cell_type": "code",
   "execution_count": null,
   "metadata": {
    "#solution": false,
    "#staff": false,
    "#student": true
   },
   "outputs": [],
   "source": [
    "# don't use \"lambda\" as that means something else in Python\n",
    "lamb = 0.5\n",
    "\n",
    "def expon_mean2_cdf(x):\n",
    "    ..."
   ]
  },
  {
   "cell_type": "markdown",
   "metadata": {
    "#solution": false,
    "#staff": false,
    "#student": false
   },
   "source": [
    "The function `plot_continuous_cdf` plots the cdf of a continuous variable. The first two arguments:\n",
    "- an interval (a, b) over which to draw the cdf\n",
    "- the name of a cdf function that takes a numerical input and returns the value of the cdf at that input\n",
    "\n",
    "Run the cell below to check that your function `expon_mean2_cdf` looks good."
   ]
  },
  {
   "cell_type": "code",
   "execution_count": null,
   "metadata": {
    "#solution": false,
    "#staff": false,
    "#student": false
   },
   "outputs": [],
   "source": [
    "plot_continuous_cdf((-1, 8), expon_mean2_cdf)"
   ]
  },
  {
   "cell_type": "markdown",
   "metadata": {
    "#solution": false,
    "#staff": false,
    "#student": false
   },
   "source": [
    "### 4c) Idea for Simulating an Exponential Random Variable ###\n",
    "\n",
    "Suppose you are given one uniform $(0, 1)$ random number and are asked to simulate $T$. Based on Part 3 of the lab, propose a method for doing this by using the graph above.\n",
    "\n",
    "You don't have to prove that the method works. We'll do a formal proof in lecture. Just propose the method."
   ]
  },
  {
   "cell_type": "markdown",
   "metadata": {
    "#solution": false,
    "#staff": false,
    "#student": true
   },
   "source": [
    "\n",
    "**Your Answer Here**"
   ]
  },
  {
   "cell_type": "markdown",
   "metadata": {
    "#solution": false,
    "#staff": false,
    "#student": false
   },
   "source": [
    "### 4d) Visualizing the Idea ###\n",
    "The animation in the cell below is analogous to the one in Part 3. Its arguments are: \n",
    "- a plotting interval\n",
    "- the name of a continuous cdf function\n",
    "\n",
    "The output demonstrates a method for picking a number on the positive real line starting with a value on the unit interval that forms the vertical axis. \n",
    "\n",
    "Run the cell and move the slider around to see how the returned value changes depending on the starting value on the vertical axis."
   ]
  },
  {
   "cell_type": "code",
   "execution_count": null,
   "metadata": {
    "#solution": false,
    "#staff": false,
    "#student": false
   },
   "outputs": [],
   "source": [
    "unit_interval_to_continuous((-1, 8), expon_mean2_cdf)"
   ]
  },
  {
   "cell_type": "markdown",
   "metadata": {
    "#solution": false,
    "#staff": false,
    "#student": false
   },
   "source": [
    "The method `plot_continuous_cdf` takes an optional third argument that is a number between $0$ and $1$. \n",
    "\n",
    "Complete the cell below so that the third argument is a random number picked uniformly from (0, 1). Run the cell a few times. How is the output related to the method you proposed in **4c** for generating a value of $T$?"
   ]
  },
  {
   "cell_type": "code",
   "execution_count": null,
   "metadata": {
    "#solution": false,
    "#staff": false,
    "#student": true
   },
   "outputs": [],
   "source": [
    "..."
   ]
  },
  {
   "cell_type": "markdown",
   "metadata": {
    "#solution": false,
    "#staff": false,
    "#student": true
   },
   "source": [
    "\n",
    "**Your Answer Here**"
   ]
  },
  {
   "cell_type": "markdown",
   "metadata": {
    "#solution": false,
    "#staff": false,
    "#student": false
   },
   "source": [
    "### 4e) [ON PAPER] The General Method ###\n",
    "Let $F$ be any continuous increasing cdf. That is, suppose $F$ has no jumps and no flat bits. \n",
    "\n",
    "Suppose you are trying to create a random variable $X$ that has cdf $F$, and suppose that all you have is $F$ and a number picked uniformly on $(0, 1)$.\n",
    "\n",
    "(i) **Fill in the blank:** Let $U$ be a uniform $(0, 1)$ random variable. To construct a random variable $X = g(U)$ so that $X$ has the cdf $F$, take $g = \\underline{~~~~~~~~~~~~~}$.\n",
    "\n",
    "\n",
    "(ii) **Fill in the blank:** Let $U$ be a uniform $(0, 1)$ random variable. For the function $g$ defined by\n",
    "\n",
    "$$\n",
    "g(u) ~ = ~ \\underline{~~~~~~~~~~~~~~~~~~~~~~~~~~~~~~~~~~~}, ~~~ 0 < u < 1\n",
    "$$\n",
    "\n",
    "the random variable $X = g(U)$ has the exponential $(\\lambda)$ distribution.\n",
    "\n",
    "[Note: If $F$ is a discrete cdf then the function $g$ is complicated to write out formally, so we're not asking you to do that. The practical description of the method of simulation is in Parts 1 and 2.]"
   ]
  },
  {
   "cell_type": "markdown",
   "metadata": {
    "#solution": false,
    "#staff": false,
    "#student": false
   },
   "source": [
    "#newpage\n",
    "\n",
    "## Part 5. Empirical Verification that the Method Works ##\n",
    "\n",
    "### a) The Initial Values ###\n",
    "Create a table that is called `sim` for simulation and consists of one column called `Uniform` that contains the values of 100,000 i.i.d. uniform $(0, 1)$ random variables."
   ]
  },
  {
   "cell_type": "code",
   "execution_count": null,
   "metadata": {
    "#solution": false,
    "#staff": false,
    "#student": true
   },
   "outputs": [],
   "source": [
    "N = 100000\n",
    "u = ...\n",
    "sim = Table().with_column(\"Uniform\", u)\n",
    "sim"
   ]
  },
  {
   "cell_type": "markdown",
   "metadata": {
    "#solution": false,
    "#staff": false,
    "#student": false
   },
   "source": [
    "### b) Tranformation to Exponential ###\n",
    "Use **4e** and the values in the column `Uniform` to create an array of values that have the exponential distribution with rate $0.5$. This is what is going on \"under the hood\" in `stats.expon.rvs`.\n",
    "\n",
    "**Do not** simulate new random numbers, as you will lose the connection with the values in `Uniform`. Use `np.log(y)` for $\\log(y)$.\n",
    "\n",
    "Augment `sim` with a column containing the new array."
   ]
  },
  {
   "cell_type": "code",
   "execution_count": null,
   "metadata": {
    "#solution": false,
    "#staff": false,
    "#student": true
   },
   "outputs": [],
   "source": [
    "def uniform_to_exponential_mean2(u):\n",
    "    return ...\n",
    "\n",
    "exponential_mean2 = sim.apply(...)\n",
    "sim = sim.with_column('Sim. Exponential (rate 0.5)', ...)\n",
    "sim"
   ]
  },
  {
   "cell_type": "markdown",
   "metadata": {
    "#solution": false,
    "#staff": false,
    "#student": false
   },
   "source": [
    "Run the cell below and compare with the histogram in 1(d) to confirm that your calculation is correct."
   ]
  },
  {
   "cell_type": "code",
   "execution_count": null,
   "metadata": {
    "#solution": false,
    "#staff": false,
    "#student": true
   },
   "outputs": [],
   "source": [
    "sim.hist('Sim. Exponential (rate 0.5)', bins=25)\n",
    "plt.xticks(np.arange(0, 21, 2));"
   ]
  },
  {
   "cell_type": "markdown",
   "metadata": {
    "#solution": false,
    "#staff": false,
    "#student": false
   },
   "source": [
    "At this point, go back and look through Part 5. Notice that the only time you generated random numbers was when you simulated 100,000 uniform (0, 1) values. All the other variables were deterministic transformations of the uniform variable."
   ]
  },
  {
   "cell_type": "markdown",
   "metadata": {
    "#solution": false,
    "#staff": false,
    "#student": false
   },
   "source": [
    "## Conclusion ##\n",
    "You have learned that:\n",
    "- To simulate a random variable with a desired distribution, what you need is a uniform random number generator and the cdf of the desired distribution. You can then use the method of this lab to simulate the value.\n",
    "- The only random numbers a statistical system needs are uniform on (0, 1). Random numbers from all other distributions follow by the method you have developed in this lab.\n",
    "- Discrete cdfs consist of jumps and flat parts, at places that you have identified."
   ]
  },
  {
   "cell_type": "markdown",
   "metadata": {
    "#solution": false,
    "#staff": false,
    "#student": false
   },
   "source": [
    "Since uniform $(0, 1)$ random numbers are central to all simulations, their quality is very important for the accuracy and reliability of simulations. Testing and assessing uniform random number generators is serious business, because random number generators don't really produce random numbers. They follow deterministic processes that produce results that have properties that resemble those of random numbers. That is why they are called Pseudo Random Number Generators or PRNGs. [Python uses the Mersenne Twister](https://docs.python.org/3.6/library/random.html), one of the most tested and reliable PRNGs. SciPy uses the [Mersenne Twister for RandomState](https://docs.scipy.org/doc/numpy-1.14.0/reference/generated/numpy.random.RandomState.html) and draws from a large number of discrete and continuous distributions. Take a look at the list on the RandomState page and see how many you can recognize."
   ]
  },
  {
   "cell_type": "markdown",
   "metadata": {
    "#solution": false,
    "#staff": false,
    "#student": false
   },
   "source": [
    "## Submission Instructions ##\n",
    "\n",
    "Many assignments throughout the course will have a written portion and a code portion. Please follow the directions below to properly submit both portions.\n",
    "\n",
    "### Written Portion ###\n",
    "*  Scan all the pages into a PDF. You can use any scanner or a phone using an application. Please **DO NOT** simply take pictures using your phone. \n",
    "* Please start a new page for each question. If you have already written multiple questions on the same page, you can crop the image or fold your page over (the old-fashioned way). This helps expedite grading.\n",
    "* It is your responsibility to check that all the work on all the scanned pages is legible.\n",
    "\n",
    "### Code Portion ###\n",
    "* Save your notebook using File > Save and Checkpoint.\n",
    "* Generate a PDF file using File > Download as > PDF via LaTeX. This might take a few seconds and will automatically download a PDF version of this notebook.\n",
    "    * If you have issues, please make a follow-up post on the general Lab 7 Piazza thread.\n",
    "    \n",
    "### Submitting ###\n",
    "* Combine the PDFs from the written and code portions into one PDF.  [Here](https://smallpdf.com/merge-pdf) is a useful tool for doing so. \n",
    "* Submit the assignment to Lab 7 on Gradescope. \n",
    "* **Make sure to assign each page of your pdf to the correct question.**\n",
    "* **It is your responsibility to verify that all of your work shows up in your final PDF submission.**\n",
    "\n",
    "\n",
    "### **We will not grade assignments which do not have pages selected for each question.** "
   ]
  },
  {
   "cell_type": "code",
   "execution_count": null,
   "metadata": {
    "#solution": false,
    "#staff": false,
    "#student": false
   },
   "outputs": [],
   "source": []
  }
 ],
 "metadata": {
  "anaconda-cloud": {},
  "checksums": [
   "1ccfeeb045915fb7127619e3ebb3482e",
   "ca939dab912a6bf18bdb854ad5280d45",
   "ff8c867ac388463e57339ff7c3d12bae",
   "04d5b7aa371507b97b974ecd9b8fc4ea",
   "1bf270d812ba10f34a34dc2021a3b93e",
   "e72faeb541b6614634a8364e33579600",
   "c62bc2baa748951d92eb0f943e194c62",
   "518c84f8a1f148dbd174743a2ce02a06",
   "8ae98f6002a5561e4d695428b1bb40e1",
   "2486b3e2f52c234f8bae96b4b843bbd3",
   "bcf24e6dc1c01a00c0631a40a935ba40",
   "3fe6cb77c310c8e776d7605801a62260",
   "0de20b93bb878d597e59213991465648",
   "491068df7d14f3e68c67bfcc645b9a68",
   "b677682cf70d3974e3cfa9a0e8c9d803",
   "1438f62cb23dd8fb6fcb5c1fdf35bf3e",
   "2f43b42fd833d1e77420a8dae7419000",
   "bae134a00b511cdf02196db2b41d5c04",
   "ff78cc45cae29d83afc29c9d3dc90611",
   "f2843165bc27ce8b80016fc631b30d21",
   "8e52f080ab0ed49d3c2e751345c790df",
   "02e6df83645b905164b25f19fdcd3af6",
   "e7be0eefc4ab67c4343b521e7a2fbaa7",
   "22f049f2aa9cf6165c64cc7fbf1e9b23",
   "659639fa3689a19fd4c84911d1df8252",
   "2a0c67811e6f9e2cc13f1b1006786b13",
   "8fb56ff8b90889edc0ef194e6e9d10c4",
   "17a43cd632c66397b33f6aba872e651e",
   "eb2a4620f80c20fe10bd012ba3b40684",
   "2a0c67811e6f9e2cc13f1b1006786b13",
   "171fafb8c705c1da6cf907e6b4eeebcb",
   "2a0c67811e6f9e2cc13f1b1006786b13",
   "f60f701559b765ed90323f07c5a66624",
   "f144c8e292a8c31e5ef41e75073ee9f3",
   "0de20b93bb878d597e59213991465648",
   "4c254e295e60bb6c38623d9f18bb6181",
   "27147fa54f9f517b7c45b213d2ab4f3b",
   "2a0c67811e6f9e2cc13f1b1006786b13",
   "0dae6e170efaf0c73042ed426fc8eb14",
   "f884c9c0c065285426d869b8f50c7373",
   "b196808ed59cc326edef392e07806c28",
   "cb27a55afdaeb2fa9583459bd6694a97",
   "bb1e66fe8f5cbab1d3152bf2f957c08b",
   "ade85a20657bd8eefc4593fdeb3d5da5",
   "5b7c50fbe7fca50491d54b11d710c4f1",
   "2a0c67811e6f9e2cc13f1b1006786b13",
   "c887e0b4cc36ad666f54af3ee63eaebb",
   "9615cee5276d137447f69009ddf702ce",
   "ee1bf4aae2575d58d907657038674fd0",
   "2f43b42fd833d1e77420a8dae7419000",
   "2a0c67811e6f9e2cc13f1b1006786b13",
   "06575adcd01fb2bc83015795592904a2",
   "887a005de062aa1b624c0b8486671ad2",
   "7c69bdb55238fd7e57173fd0e41b6239",
   "aa427aec25d39ffdf9cffdfc8d40b66b",
   "739b35dc2f5ef17801eeb3f056906428",
   "4db7cf7690c100b7ed85dc56b8e0b2fb",
   "a19540fc418f0c68c6300f7931c7a05f",
   "f13992d071f7cd4bef39d8e9a3bae75e",
   "cba4b22d481aabbb3960923ce70fc55a",
   "1fe1d64259efe8a40dc9d3da3b446614",
   "09ff805325f58a1de5bc4defe24d14c1",
   "d41d8cd98f00b204e9800998ecf8427e"
  ],
  "kernelspec": {
   "display_name": "Python 3",
   "language": "python",
   "name": "python3"
  },
  "language_info": {
   "codemirror_mode": {
    "name": "ipython",
    "version": 3
   },
   "file_extension": ".py",
   "mimetype": "text/x-python",
   "name": "python",
   "nbconvert_exporter": "python",
   "pygments_lexer": "ipython3",
   "version": "3.6.5"
  },
  "number_of_pagebreaks": 5
 },
 "nbformat": 4,
 "nbformat_minor": 1
}
